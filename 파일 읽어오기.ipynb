{
 "cells": [
  {
   "cell_type": "code",
   "execution_count": null,
   "metadata": {},
   "outputs": [],
   "source": [
    "import pandas as pd\n",
    "import matplotlib.pyplot as plt\n",
    "import numpy as np\n",
    "import matplotlib\n",
    "matplotlib.rc('font', family='Malgun Gothic',size=8, weight = 'bold')"
   ]
  },
  {
   "cell_type": "code",
   "execution_count": null,
   "metadata": {},
   "outputs": [],
   "source": [
    "#1. 데이터 가져오기\n",
    "파일 = pd.ExcelFile('C:\\ETF\\portfolio_monthly_data.xlsx')\n",
    "자산군 = 파일.sheet_names\n",
    "print (자산군)"
   ]
  },
  {
   "cell_type": "code",
   "execution_count": null,
   "metadata": {},
   "outputs": [],
   "source": [
    "#2. 자산군별 데이터 프레임 설정\n",
    "\n",
    "자료 = {}\n",
    "for i in 자산군:\n",
    "    자료[i] = 파일.parse(i)\n",
    "    자료[i].index = 자료[i].Date\n",
    "    #날짜 있는 컬럼을 삭제함.\n",
    "    자료[i].drop('Date', axis = 1, inplace=True)\n",
    "    #날짜 컬럼을 제외한 컬럼의 갯수\n",
    "    print(i+'개수',len(자료[i].columns))"
   ]
  }
 ],
 "metadata": {
  "kernelspec": {
   "display_name": "Python 3",
   "language": "python",
   "name": "python3"
  },
  "language_info": {
   "codemirror_mode": {
    "name": "ipython",
    "version": 3
   },
   "file_extension": ".py",
   "mimetype": "text/x-python",
   "name": "python",
   "nbconvert_exporter": "python",
   "pygments_lexer": "ipython3",
   "version": "3.6.4"
  }
 },
 "nbformat": 4,
 "nbformat_minor": 2
}
