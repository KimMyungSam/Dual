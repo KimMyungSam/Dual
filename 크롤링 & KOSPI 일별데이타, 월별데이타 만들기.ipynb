{
 "cells": [
  {
   "cell_type": "code",
   "execution_count": 1,
   "metadata": {},
   "outputs": [],
   "source": [
    "import pandas as pd\n",
    "import numpy as np\n",
    "import FinanceDataReader  as fdr"
   ]
  },
  {
   "cell_type": "code",
   "execution_count": 2,
   "metadata": {},
   "outputs": [],
   "source": [
    "# https://financedata.github.io/posts/finance-data-reader-users-guide.html"
   ]
  },
  {
   "cell_type": "markdown",
   "metadata": {},
   "source": [
    "### KODEX200 읽어오기"
   ]
  },
  {
   "cell_type": "code",
   "execution_count": 3,
   "metadata": {},
   "outputs": [],
   "source": [
    "df = fdr.DataReader(\"KS11\")  ##KS11 코스피 지수"
   ]
  },
  {
   "cell_type": "code",
   "execution_count": 4,
   "metadata": {},
   "outputs": [
    {
     "data": {
      "text/html": [
       "<div>\n",
       "<style scoped>\n",
       "    .dataframe tbody tr th:only-of-type {\n",
       "        vertical-align: middle;\n",
       "    }\n",
       "\n",
       "    .dataframe tbody tr th {\n",
       "        vertical-align: top;\n",
       "    }\n",
       "\n",
       "    .dataframe thead th {\n",
       "        text-align: right;\n",
       "    }\n",
       "</style>\n",
       "<table border=\"1\" class=\"dataframe\">\n",
       "  <thead>\n",
       "    <tr style=\"text-align: right;\">\n",
       "      <th></th>\n",
       "      <th>Close</th>\n",
       "      <th>Open</th>\n",
       "      <th>High</th>\n",
       "      <th>Low</th>\n",
       "      <th>Volume</th>\n",
       "      <th>Change</th>\n",
       "    </tr>\n",
       "    <tr>\n",
       "      <th>Date</th>\n",
       "      <th></th>\n",
       "      <th></th>\n",
       "      <th></th>\n",
       "      <th></th>\n",
       "      <th></th>\n",
       "      <th></th>\n",
       "    </tr>\n",
       "  </thead>\n",
       "  <tbody>\n",
       "    <tr>\n",
       "      <th>2019-01-14</th>\n",
       "      <td>2064.52</td>\n",
       "      <td>2070.49</td>\n",
       "      <td>2073.94</td>\n",
       "      <td>2059.46</td>\n",
       "      <td>432890000.0</td>\n",
       "      <td>-0.0053</td>\n",
       "    </tr>\n",
       "    <tr>\n",
       "      <th>2019-01-15</th>\n",
       "      <td>2097.18</td>\n",
       "      <td>2069.14</td>\n",
       "      <td>2098.01</td>\n",
       "      <td>2067.58</td>\n",
       "      <td>439490000.0</td>\n",
       "      <td>0.0158</td>\n",
       "    </tr>\n",
       "    <tr>\n",
       "      <th>2019-01-16</th>\n",
       "      <td>2106.10</td>\n",
       "      <td>2098.65</td>\n",
       "      <td>2106.35</td>\n",
       "      <td>2091.92</td>\n",
       "      <td>500080000.0</td>\n",
       "      <td>0.0043</td>\n",
       "    </tr>\n",
       "    <tr>\n",
       "      <th>2019-01-17</th>\n",
       "      <td>2107.06</td>\n",
       "      <td>2110.14</td>\n",
       "      <td>2117.43</td>\n",
       "      <td>2101.70</td>\n",
       "      <td>475880000.0</td>\n",
       "      <td>0.0005</td>\n",
       "    </tr>\n",
       "    <tr>\n",
       "      <th>2019-01-18</th>\n",
       "      <td>2124.28</td>\n",
       "      <td>2116.43</td>\n",
       "      <td>2124.50</td>\n",
       "      <td>2113.44</td>\n",
       "      <td>449280.0</td>\n",
       "      <td>0.0082</td>\n",
       "    </tr>\n",
       "  </tbody>\n",
       "</table>\n",
       "</div>"
      ],
      "text/plain": [
       "              Close     Open     High      Low       Volume  Change\n",
       "Date                                                               \n",
       "2019-01-14  2064.52  2070.49  2073.94  2059.46  432890000.0 -0.0053\n",
       "2019-01-15  2097.18  2069.14  2098.01  2067.58  439490000.0  0.0158\n",
       "2019-01-16  2106.10  2098.65  2106.35  2091.92  500080000.0  0.0043\n",
       "2019-01-17  2107.06  2110.14  2117.43  2101.70  475880000.0  0.0005\n",
       "2019-01-18  2124.28  2116.43  2124.50  2113.44     449280.0  0.0082"
      ]
     },
     "execution_count": 4,
     "metadata": {},
     "output_type": "execute_result"
    }
   ],
   "source": [
    "df.tail()"
   ]
  },
  {
   "cell_type": "code",
   "execution_count": 5,
   "metadata": {},
   "outputs": [
    {
     "data": {
      "text/html": [
       "<div>\n",
       "<style scoped>\n",
       "    .dataframe tbody tr th:only-of-type {\n",
       "        vertical-align: middle;\n",
       "    }\n",
       "\n",
       "    .dataframe tbody tr th {\n",
       "        vertical-align: top;\n",
       "    }\n",
       "\n",
       "    .dataframe thead th {\n",
       "        text-align: right;\n",
       "    }\n",
       "</style>\n",
       "<table border=\"1\" class=\"dataframe\">\n",
       "  <thead>\n",
       "    <tr style=\"text-align: right;\">\n",
       "      <th></th>\n",
       "      <th>Close</th>\n",
       "      <th>Open</th>\n",
       "      <th>High</th>\n",
       "      <th>Low</th>\n",
       "      <th>Volume</th>\n",
       "      <th>Change</th>\n",
       "    </tr>\n",
       "    <tr>\n",
       "      <th>Date</th>\n",
       "      <th></th>\n",
       "      <th></th>\n",
       "      <th></th>\n",
       "      <th></th>\n",
       "      <th></th>\n",
       "      <th></th>\n",
       "    </tr>\n",
       "  </thead>\n",
       "  <tbody>\n",
       "    <tr>\n",
       "      <th>2010-01-04</th>\n",
       "      <td>1696.14</td>\n",
       "      <td>1681.71</td>\n",
       "      <td>1696.14</td>\n",
       "      <td>1681.71</td>\n",
       "      <td>296550000.0</td>\n",
       "      <td>0.0079</td>\n",
       "    </tr>\n",
       "    <tr>\n",
       "      <th>2010-01-05</th>\n",
       "      <td>1690.62</td>\n",
       "      <td>1701.62</td>\n",
       "      <td>1702.39</td>\n",
       "      <td>1686.45</td>\n",
       "      <td>408850000.0</td>\n",
       "      <td>-0.0033</td>\n",
       "    </tr>\n",
       "    <tr>\n",
       "      <th>2010-01-06</th>\n",
       "      <td>1705.32</td>\n",
       "      <td>1697.88</td>\n",
       "      <td>1706.89</td>\n",
       "      <td>1696.10</td>\n",
       "      <td>426040000.0</td>\n",
       "      <td>0.0087</td>\n",
       "    </tr>\n",
       "    <tr>\n",
       "      <th>2010-01-07</th>\n",
       "      <td>1683.45</td>\n",
       "      <td>1702.92</td>\n",
       "      <td>1707.90</td>\n",
       "      <td>1683.45</td>\n",
       "      <td>462400000.0</td>\n",
       "      <td>-0.0128</td>\n",
       "    </tr>\n",
       "    <tr>\n",
       "      <th>2010-01-08</th>\n",
       "      <td>1695.26</td>\n",
       "      <td>1694.06</td>\n",
       "      <td>1695.26</td>\n",
       "      <td>1668.84</td>\n",
       "      <td>379950000.0</td>\n",
       "      <td>0.0070</td>\n",
       "    </tr>\n",
       "  </tbody>\n",
       "</table>\n",
       "</div>"
      ],
      "text/plain": [
       "              Close     Open     High      Low       Volume  Change\n",
       "Date                                                               \n",
       "2010-01-04  1696.14  1681.71  1696.14  1681.71  296550000.0  0.0079\n",
       "2010-01-05  1690.62  1701.62  1702.39  1686.45  408850000.0 -0.0033\n",
       "2010-01-06  1705.32  1697.88  1706.89  1696.10  426040000.0  0.0087\n",
       "2010-01-07  1683.45  1702.92  1707.90  1683.45  462400000.0 -0.0128\n",
       "2010-01-08  1695.26  1694.06  1695.26  1668.84  379950000.0  0.0070"
      ]
     },
     "execution_count": 5,
     "metadata": {},
     "output_type": "execute_result"
    }
   ],
   "source": [
    "df.head()"
   ]
  },
  {
   "cell_type": "markdown",
   "metadata": {},
   "source": [
    "### csv 파일로 저장하기"
   ]
  },
  {
   "cell_type": "code",
   "execution_count": 6,
   "metadata": {},
   "outputs": [],
   "source": [
    "df.to_csv(\"KOSPI_daily_data.csv\",sep=\",\",encoding=\"utf-8\")"
   ]
  },
  {
   "cell_type": "markdown",
   "metadata": {},
   "source": [
    "### 마지막 영업일로 월별데이타 만들기"
   ]
  },
  {
   "cell_type": "code",
   "execution_count": 7,
   "metadata": {},
   "outputs": [],
   "source": [
    "bm = df.resample(\"BM\").last()"
   ]
  },
  {
   "cell_type": "code",
   "execution_count": 8,
   "metadata": {},
   "outputs": [
    {
     "data": {
      "text/html": [
       "<div>\n",
       "<style scoped>\n",
       "    .dataframe tbody tr th:only-of-type {\n",
       "        vertical-align: middle;\n",
       "    }\n",
       "\n",
       "    .dataframe tbody tr th {\n",
       "        vertical-align: top;\n",
       "    }\n",
       "\n",
       "    .dataframe thead th {\n",
       "        text-align: right;\n",
       "    }\n",
       "</style>\n",
       "<table border=\"1\" class=\"dataframe\">\n",
       "  <thead>\n",
       "    <tr style=\"text-align: right;\">\n",
       "      <th></th>\n",
       "      <th>Close</th>\n",
       "      <th>Open</th>\n",
       "      <th>High</th>\n",
       "      <th>Low</th>\n",
       "      <th>Volume</th>\n",
       "      <th>Change</th>\n",
       "    </tr>\n",
       "    <tr>\n",
       "      <th>Date</th>\n",
       "      <th></th>\n",
       "      <th></th>\n",
       "      <th></th>\n",
       "      <th></th>\n",
       "      <th></th>\n",
       "      <th></th>\n",
       "    </tr>\n",
       "  </thead>\n",
       "  <tbody>\n",
       "    <tr>\n",
       "      <th>2018-09-28</th>\n",
       "      <td>2343.07</td>\n",
       "      <td>2356.13</td>\n",
       "      <td>2356.62</td>\n",
       "      <td>2337.47</td>\n",
       "      <td>317870000.0</td>\n",
       "      <td>-0.0052</td>\n",
       "    </tr>\n",
       "    <tr>\n",
       "      <th>2018-10-31</th>\n",
       "      <td>2029.69</td>\n",
       "      <td>2022.84</td>\n",
       "      <td>2030.50</td>\n",
       "      <td>2006.63</td>\n",
       "      <td>373030000.0</td>\n",
       "      <td>0.0074</td>\n",
       "    </tr>\n",
       "    <tr>\n",
       "      <th>2018-11-30</th>\n",
       "      <td>2096.86</td>\n",
       "      <td>2116.83</td>\n",
       "      <td>2122.33</td>\n",
       "      <td>2093.83</td>\n",
       "      <td>427350000.0</td>\n",
       "      <td>-0.0082</td>\n",
       "    </tr>\n",
       "    <tr>\n",
       "      <th>2018-12-31</th>\n",
       "      <td>2041.04</td>\n",
       "      <td>2036.70</td>\n",
       "      <td>2046.97</td>\n",
       "      <td>2035.41</td>\n",
       "      <td>352680000.0</td>\n",
       "      <td>0.0062</td>\n",
       "    </tr>\n",
       "    <tr>\n",
       "      <th>2019-01-31</th>\n",
       "      <td>2124.28</td>\n",
       "      <td>2116.43</td>\n",
       "      <td>2124.50</td>\n",
       "      <td>2113.44</td>\n",
       "      <td>449280.0</td>\n",
       "      <td>0.0082</td>\n",
       "    </tr>\n",
       "  </tbody>\n",
       "</table>\n",
       "</div>"
      ],
      "text/plain": [
       "              Close     Open     High      Low       Volume  Change\n",
       "Date                                                               \n",
       "2018-09-28  2343.07  2356.13  2356.62  2337.47  317870000.0 -0.0052\n",
       "2018-10-31  2029.69  2022.84  2030.50  2006.63  373030000.0  0.0074\n",
       "2018-11-30  2096.86  2116.83  2122.33  2093.83  427350000.0 -0.0082\n",
       "2018-12-31  2041.04  2036.70  2046.97  2035.41  352680000.0  0.0062\n",
       "2019-01-31  2124.28  2116.43  2124.50  2113.44     449280.0  0.0082"
      ]
     },
     "execution_count": 8,
     "metadata": {},
     "output_type": "execute_result"
    }
   ],
   "source": [
    "bm.tail()"
   ]
  },
  {
   "cell_type": "code",
   "execution_count": 9,
   "metadata": {},
   "outputs": [],
   "source": [
    "bm.to_csv(\"KOSPI_monthly_data.csv\", sep=\",\",encoding=\"utf-8\")"
   ]
  },
  {
   "cell_type": "code",
   "execution_count": null,
   "metadata": {},
   "outputs": [],
   "source": []
  }
 ],
 "metadata": {
  "kernelspec": {
   "display_name": "Python 3",
   "language": "python",
   "name": "python3"
  },
  "language_info": {
   "codemirror_mode": {
    "name": "ipython",
    "version": 3
   },
   "file_extension": ".py",
   "mimetype": "text/x-python",
   "name": "python",
   "nbconvert_exporter": "python",
   "pygments_lexer": "ipython3",
   "version": "3.6.4"
  }
 },
 "nbformat": 4,
 "nbformat_minor": 2
}
