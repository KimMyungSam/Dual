{
 "cells": [
  {
   "cell_type": "markdown",
   "metadata": {},
   "source": [
    "### 전체종목리스트구하기"
   ]
  },
  {
   "cell_type": "code",
   "execution_count": 7,
   "metadata": {},
   "outputs": [
    {
     "data": {
      "text/plain": [
       "'0.7.1'"
      ]
     },
     "execution_count": 7,
     "metadata": {},
     "output_type": "execute_result"
    }
   ],
   "source": [
    "import pandas as pd\n",
    "import numpy as np\n",
    "import FinanceDataReader  as fdr\n",
    "fdr.__version__"
   ]
  },
  {
   "cell_type": "code",
   "execution_count": 8,
   "metadata": {},
   "outputs": [],
   "source": [
    "#  차트 설정\n",
    "%matplotlib inline\n",
    "import matplotlib.pyplot as plt\n",
    "\n",
    "plt.rcParams[\"font.family\"] = 'nanummyeongjo'\n",
    "plt.rcParams[\"figure.figsize\"] = (14,4)\n",
    "plt.rcParams['lines.linewidth'] = 2\n",
    "plt.rcParams[\"axes.grid\"] = True"
   ]
  },
  {
   "cell_type": "code",
   "execution_count": 9,
   "metadata": {},
   "outputs": [
    {
     "data": {
      "text/html": [
       "<style>\n",
       "    table { display: inline-block }\n",
       "    .rendered_html td, .rendered_html th { text-align: left; }\n",
       "</style>"
      ],
      "text/plain": [
       "<IPython.core.display.HTML object>"
      ]
     },
     "metadata": {},
     "output_type": "display_data"
    }
   ],
   "source": [
    "%%html\n",
    "<style>\n",
    "    table { display: inline-block }\n",
    "    .rendered_html td, .rendered_html th { text-align: left; }\n",
    "</style>"
   ]
  },
  {
   "cell_type": "code",
   "execution_count": 13,
   "metadata": {},
   "outputs": [],
   "source": [
    "# 한국거래소 상장종목 전체\n",
    "df_krx = fdr.StockListing(\"KRX\")"
   ]
  },
  {
   "cell_type": "code",
   "execution_count": 14,
   "metadata": {},
   "outputs": [
    {
     "data": {
      "text/html": [
       "<div>\n",
       "<style scoped>\n",
       "    .dataframe tbody tr th:only-of-type {\n",
       "        vertical-align: middle;\n",
       "    }\n",
       "\n",
       "    .dataframe tbody tr th {\n",
       "        vertical-align: top;\n",
       "    }\n",
       "\n",
       "    .dataframe thead th {\n",
       "        text-align: right;\n",
       "    }\n",
       "</style>\n",
       "<table border=\"1\" class=\"dataframe\">\n",
       "  <thead>\n",
       "    <tr style=\"text-align: right;\">\n",
       "      <th></th>\n",
       "      <th>Symbol</th>\n",
       "      <th>Name</th>\n",
       "      <th>Sector</th>\n",
       "      <th>Industry</th>\n",
       "    </tr>\n",
       "  </thead>\n",
       "  <tbody>\n",
       "    <tr>\n",
       "      <th>0</th>\n",
       "      <td>001040</td>\n",
       "      <td>CJ</td>\n",
       "      <td>기타 금융업</td>\n",
       "      <td>지주회사</td>\n",
       "    </tr>\n",
       "    <tr>\n",
       "      <th>1</th>\n",
       "      <td>011150</td>\n",
       "      <td>CJ씨푸드</td>\n",
       "      <td>기타 식품 제조업</td>\n",
       "      <td>수산물(어묵,맛살)가공품 도매,원양수산업,수출입</td>\n",
       "    </tr>\n",
       "    <tr>\n",
       "      <th>2</th>\n",
       "      <td>082740</td>\n",
       "      <td>HSD엔진</td>\n",
       "      <td>일반 목적용 기계 제조업</td>\n",
       "      <td>대형선박용엔진,내연발전엔진</td>\n",
       "    </tr>\n",
       "    <tr>\n",
       "      <th>3</th>\n",
       "      <td>001390</td>\n",
       "      <td>KG케미칼</td>\n",
       "      <td>기초 화학물질 제조업</td>\n",
       "      <td>콘크리트혼화제, 비료, 친환경농자재, 수처리제</td>\n",
       "    </tr>\n",
       "    <tr>\n",
       "      <th>4</th>\n",
       "      <td>010060</td>\n",
       "      <td>OCI</td>\n",
       "      <td>기초 화학물질 제조업</td>\n",
       "      <td>타르제품,카본블랙,무수프탈산,농약원제,석탄화학제품,정밀화학제품,플라스틱창호재 제조,판매</td>\n",
       "    </tr>\n",
       "  </tbody>\n",
       "</table>\n",
       "</div>"
      ],
      "text/plain": [
       "   Symbol   Name         Sector  \\\n",
       "0  001040     CJ         기타 금융업   \n",
       "1  011150  CJ씨푸드      기타 식품 제조업   \n",
       "2  082740  HSD엔진  일반 목적용 기계 제조업   \n",
       "3  001390  KG케미칼    기초 화학물질 제조업   \n",
       "4  010060    OCI    기초 화학물질 제조업   \n",
       "\n",
       "                                           Industry  \n",
       "0                                              지주회사  \n",
       "1                        수산물(어묵,맛살)가공품 도매,원양수산업,수출입  \n",
       "2                                    대형선박용엔진,내연발전엔진  \n",
       "3                         콘크리트혼화제, 비료, 친환경농자재, 수처리제  \n",
       "4  타르제품,카본블랙,무수프탈산,농약원제,석탄화학제품,정밀화학제품,플라스틱창호재 제조,판매  "
      ]
     },
     "execution_count": 14,
     "metadata": {},
     "output_type": "execute_result"
    }
   ],
   "source": [
    "df_krx.head()"
   ]
  },
  {
   "cell_type": "code",
   "execution_count": 16,
   "metadata": {},
   "outputs": [
    {
     "data": {
      "text/html": [
       "<div>\n",
       "<style scoped>\n",
       "    .dataframe tbody tr th:only-of-type {\n",
       "        vertical-align: middle;\n",
       "    }\n",
       "\n",
       "    .dataframe tbody tr th {\n",
       "        vertical-align: top;\n",
       "    }\n",
       "\n",
       "    .dataframe thead th {\n",
       "        text-align: right;\n",
       "    }\n",
       "</style>\n",
       "<table border=\"1\" class=\"dataframe\">\n",
       "  <thead>\n",
       "    <tr style=\"text-align: right;\">\n",
       "      <th></th>\n",
       "      <th>Symbol</th>\n",
       "      <th>Name</th>\n",
       "      <th>Sector</th>\n",
       "      <th>Industry</th>\n",
       "    </tr>\n",
       "  </thead>\n",
       "  <tbody>\n",
       "    <tr>\n",
       "      <th>2259</th>\n",
       "      <td>199800</td>\n",
       "      <td>툴젠</td>\n",
       "      <td>자연과학 및 공학 연구개발업</td>\n",
       "      <td>유전자가위 (유전체 교정 도구) 및 이를 이용한 유전자세포치료제, 고부가가치 가축,...</td>\n",
       "    </tr>\n",
       "    <tr>\n",
       "      <th>2260</th>\n",
       "      <td>228180</td>\n",
       "      <td>티씨엠생명과학</td>\n",
       "      <td>자연과학 및 공학 연구개발업</td>\n",
       "      <td>체외진단서비스 개발 및 진단 용역</td>\n",
       "    </tr>\n",
       "    <tr>\n",
       "      <th>2261</th>\n",
       "      <td>217880</td>\n",
       "      <td>틸론</td>\n",
       "      <td>소프트웨어 개발 및 공급업</td>\n",
       "      <td>Cloud Solution (D,A,E,Rstation)</td>\n",
       "    </tr>\n",
       "    <tr>\n",
       "      <th>2262</th>\n",
       "      <td>278990</td>\n",
       "      <td>파인이엠텍</td>\n",
       "      <td>그외 기타 제품 제조업</td>\n",
       "      <td>차량용 AVN, 휴대폰 액세서리</td>\n",
       "    </tr>\n",
       "    <tr>\n",
       "      <th>2263</th>\n",
       "      <td>202960</td>\n",
       "      <td>판도라티비</td>\n",
       "      <td>소프트웨어 개발 및 공급업</td>\n",
       "      <td>판도라TV, KM 플레이어</td>\n",
       "    </tr>\n",
       "  </tbody>\n",
       "</table>\n",
       "</div>"
      ],
      "text/plain": [
       "      Symbol     Name           Sector  \\\n",
       "2259  199800       툴젠  자연과학 및 공학 연구개발업   \n",
       "2260  228180  티씨엠생명과학  자연과학 및 공학 연구개발업   \n",
       "2261  217880       틸론   소프트웨어 개발 및 공급업   \n",
       "2262  278990    파인이엠텍     그외 기타 제품 제조업   \n",
       "2263  202960    판도라티비   소프트웨어 개발 및 공급업   \n",
       "\n",
       "                                               Industry  \n",
       "2259  유전자가위 (유전체 교정 도구) 및 이를 이용한 유전자세포치료제, 고부가가치 가축,...  \n",
       "2260                                 체외진단서비스 개발 및 진단 용역  \n",
       "2261                    Cloud Solution (D,A,E,Rstation)  \n",
       "2262                                  차량용 AVN, 휴대폰 액세서리  \n",
       "2263                                     판도라TV, KM 플레이어  "
      ]
     },
     "execution_count": 16,
     "metadata": {},
     "output_type": "execute_result"
    }
   ],
   "source": [
    "df_krx.tail()"
   ]
  },
  {
   "cell_type": "code",
   "execution_count": 17,
   "metadata": {},
   "outputs": [],
   "source": [
    "df_krx.to_csv(\"상장종목리스트20190125.csv\",encoding=\"utf-8\",sep=\",\")"
   ]
  },
  {
   "cell_type": "code",
   "execution_count": null,
   "metadata": {},
   "outputs": [],
   "source": []
  }
 ],
 "metadata": {
  "kernelspec": {
   "display_name": "Python 3",
   "language": "python",
   "name": "python3"
  },
  "language_info": {
   "codemirror_mode": {
    "name": "ipython",
    "version": 3
   },
   "file_extension": ".py",
   "mimetype": "text/x-python",
   "name": "python",
   "nbconvert_exporter": "python",
   "pygments_lexer": "ipython3",
   "version": "3.6.5"
  }
 },
 "nbformat": 4,
 "nbformat_minor": 2
}
