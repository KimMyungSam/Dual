{
 "cells": [
  {
   "cell_type": "markdown",
   "metadata": {},
   "source": [
    "# 2-4. KODEX 코스닥 150 월별 절대모멘텀"
   ]
  },
  {
   "cell_type": "code",
   "execution_count": 1,
   "metadata": {},
   "outputs": [],
   "source": [
    "import pandas as pd\n",
    "import numpy as np"
   ]
  },
  {
   "cell_type": "markdown",
   "metadata": {},
   "source": [
    "### 함수"
   ]
  },
  {
   "cell_type": "code",
   "execution_count": 2,
   "metadata": {},
   "outputs": [],
   "source": [
    "def 월별수익(data):\n",
    "    result = data/data.shift(1)\n",
    "    return result\n",
    "\n",
    "def 절대모멘텀(data,month):\n",
    "    # shift를 사용하여 원화는 달의 수익률을 구한다\n",
    "    # 당월주가 > n 개월 전 주가(n개월 모멘텀 > 0) --> 주식매수\n",
    "    # 당월주가 < n 개월 전 주가(n개월 모멘텀 < 0) --> 주식매도\n",
    "    result = np.where(data/data.shift(month)>1,1,0)\n",
    "    return result\n",
    "\n",
    "def CAGR(data):\n",
    "    y = data.index.year.unique()\n",
    "    result = (data[-1]/data[0])**(1/len(y))-1\n",
    "    return np.round(result,4)\n",
    "\n",
    "def MDD(data):\n",
    "    # We are going to use a trailing 252 trading day window\n",
    "    window = len(data)\n",
    "\n",
    "    # Calculate the max drawdown in the past window days for each day in the series.\n",
    "    # Use min_periods=1 if you want to let the first 252 days data have an expanding window\n",
    "    Roll_Max = data.rolling(window, min_periods=1).max()\n",
    "    Roll_Max.rename(\"Roll_Max\", inplace=True)\n",
    "    Drawdown = data/Roll_Max - 1.0\n",
    "    Drawdown.rename(\"Drawdown\", inplace=True)\n",
    "\n",
    "    # Next we calculate the minimum (negative) daily drawdown in that window.\n",
    "    # Again, use min_periods=1 if you want to allow the expanding window\n",
    "    Max_Drawdown = Drawdown.rolling(window, min_periods=1).min()\n",
    "    Max_Drawdown.rename(\"Max_Drawdown\", inplace=True)\n",
    "    \n",
    "    return np.round(Drawdown,4), np.round(Max_Drawdown,4)"
   ]
  },
  {
   "cell_type": "markdown",
   "metadata": {},
   "source": [
    "# Main"
   ]
  },
  {
   "cell_type": "markdown",
   "metadata": {},
   "source": [
    "### csv 파일 읽어오기"
   ]
  },
  {
   "cell_type": "code",
   "execution_count": 3,
   "metadata": {
    "scrolled": true
   },
   "outputs": [],
   "source": [
    "df = pd.read_csv(\"KODEX코스닥150_monthly_data.csv\",encoding=\"utf-8\", engine=\"python\")"
   ]
  },
  {
   "cell_type": "markdown",
   "metadata": {},
   "source": [
    "### Index는 datetime 형으로 변환하기"
   ]
  },
  {
   "cell_type": "code",
   "execution_count": 4,
   "metadata": {
    "scrolled": false
   },
   "outputs": [
    {
     "data": {
      "text/html": [
       "<div>\n",
       "<style scoped>\n",
       "    .dataframe tbody tr th:only-of-type {\n",
       "        vertical-align: middle;\n",
       "    }\n",
       "\n",
       "    .dataframe tbody tr th {\n",
       "        vertical-align: top;\n",
       "    }\n",
       "\n",
       "    .dataframe thead th {\n",
       "        text-align: right;\n",
       "    }\n",
       "</style>\n",
       "<table border=\"1\" class=\"dataframe\">\n",
       "  <thead>\n",
       "    <tr style=\"text-align: right;\">\n",
       "      <th></th>\n",
       "      <th>Date</th>\n",
       "      <th>Open</th>\n",
       "      <th>High</th>\n",
       "      <th>Low</th>\n",
       "      <th>Close</th>\n",
       "      <th>Volume</th>\n",
       "      <th>Change</th>\n",
       "    </tr>\n",
       "    <tr>\n",
       "      <th>Date</th>\n",
       "      <th></th>\n",
       "      <th></th>\n",
       "      <th></th>\n",
       "      <th></th>\n",
       "      <th></th>\n",
       "      <th></th>\n",
       "      <th></th>\n",
       "    </tr>\n",
       "  </thead>\n",
       "  <tbody>\n",
       "    <tr>\n",
       "      <th>2015-10-30</th>\n",
       "      <td>2015-10-30</td>\n",
       "      <td>10629</td>\n",
       "      <td>10629</td>\n",
       "      <td>10452</td>\n",
       "      <td>10458</td>\n",
       "      <td>231953</td>\n",
       "      <td>-0.015347</td>\n",
       "    </tr>\n",
       "    <tr>\n",
       "      <th>2015-11-30</th>\n",
       "      <td>2015-11-30</td>\n",
       "      <td>10879</td>\n",
       "      <td>10879</td>\n",
       "      <td>10713</td>\n",
       "      <td>10787</td>\n",
       "      <td>329716</td>\n",
       "      <td>-0.003234</td>\n",
       "    </tr>\n",
       "    <tr>\n",
       "      <th>2015-12-31</th>\n",
       "      <td>2015-12-31</td>\n",
       "      <td>10678</td>\n",
       "      <td>10820</td>\n",
       "      <td>10634</td>\n",
       "      <td>10822</td>\n",
       "      <td>395520</td>\n",
       "      <td>0.018445</td>\n",
       "    </tr>\n",
       "    <tr>\n",
       "      <th>2016-01-29</th>\n",
       "      <td>2016-01-29</td>\n",
       "      <td>11075</td>\n",
       "      <td>11080</td>\n",
       "      <td>10938</td>\n",
       "      <td>11083</td>\n",
       "      <td>416093</td>\n",
       "      <td>0.004077</td>\n",
       "    </tr>\n",
       "    <tr>\n",
       "      <th>2016-02-29</th>\n",
       "      <td>2016-02-29</td>\n",
       "      <td>10197</td>\n",
       "      <td>10255</td>\n",
       "      <td>10137</td>\n",
       "      <td>10257</td>\n",
       "      <td>630334</td>\n",
       "      <td>0.005884</td>\n",
       "    </tr>\n",
       "  </tbody>\n",
       "</table>\n",
       "</div>"
      ],
      "text/plain": [
       "                  Date   Open   High    Low  Close  Volume    Change\n",
       "Date                                                                \n",
       "2015-10-30  2015-10-30  10629  10629  10452  10458  231953 -0.015347\n",
       "2015-11-30  2015-11-30  10879  10879  10713  10787  329716 -0.003234\n",
       "2015-12-31  2015-12-31  10678  10820  10634  10822  395520  0.018445\n",
       "2016-01-29  2016-01-29  11075  11080  10938  11083  416093  0.004077\n",
       "2016-02-29  2016-02-29  10197  10255  10137  10257  630334  0.005884"
      ]
     },
     "execution_count": 4,
     "metadata": {},
     "output_type": "execute_result"
    }
   ],
   "source": [
    "df.index = pd.to_datetime(df[\"Date\"])\n",
    "df.head()"
   ]
  },
  {
   "cell_type": "markdown",
   "metadata": {},
   "source": [
    "### 누적수익률 구하기, 학습하기"
   ]
  },
  {
   "cell_type": "code",
   "execution_count": 5,
   "metadata": {},
   "outputs": [
    {
     "data": {
      "image/png": "[encoded data removed]",
      "text/plain": [
       "<matplotlib.figure.Figure at 0x8a733f0>"
      ]
     },
     "metadata": {},
     "output_type": "display_data"
    }
   ],
   "source": [
    "KODEX200 = df[\"Close\"]\n",
    "KODEX200.rename(\"KODEX200\", inplace=True)\n",
    "#KODEX200 re-scale 1.01\n",
    "reKODEX200 = KODEX200/KODEX200.iloc[0] * 1.01\n",
    "월수익 = 월별수익(KODEX200)\n",
    "\n",
    "누적월수익 = 월수익.cumprod()\n",
    "\n",
    "import matplotlib.pyplot as plt\n",
    "import matplotlib\n",
    "matplotlib.rcParams['axes.unicode_minus'] = False # 마이너스 기호 깨짐을 해결\n",
    "from matplotlib import rc, font_manager\n",
    "rc(\"font\", family=\"NanumGothic\")  # 한글폰트 깨짐을 해결\n",
    "\n",
    "%matplotlib inline\n",
    "\n",
    "fig = plt.figure(figsize=(14,6))\n",
    "ax = fig.add_subplot(1,1,1)\n",
    "ax.plot(월수익,color=\"Red\", label=\"월수익\")\n",
    "ax.plot(누적월수익,color=\"Black\", label=\"누적월수익\")\n",
    "ax.plot(reKODEX200,color=\"Blue\", label=\"reKODEX200\")\n",
    "ax.legend();\n",
    "#그래프는 누적수일률 값을 1.01부터 시작하게 하여 구분하였다.\n",
    "#누적수익그래프와 종가그래프 100%로 일치한다.\n",
    "#월별수익그래프 각 달의 수익이다."
   ]
  },
  {
   "cell_type": "markdown",
   "metadata": {},
   "source": [
    "### 개월수별 절대모멘텀 값 구하기, CAGR/MDD 구하기"
   ]
  },
  {
   "cell_type": "code",
   "execution_count": 6,
   "metadata": {},
   "outputs": [
    {
     "name": "stdout",
     "output_type": "stream",
     "text": [
      "KODEX코스닥150 CAGR 2.15% \n",
      "KODEX코스닥150 MDD -32.64%\n",
      "누적월별수익 111.21%\n",
      "\n"
     ]
    }
   ],
   "source": [
    "KODEX코스닥150 = df[\"Close\"]\n",
    "KODEX코스닥150.rename(\"KODEX코스닥150\", inplace=True)\n",
    "KODEX코스닥150 = KODEX코스닥150/KODEX코스닥150[0] * 1  #re-scale로 1로 맞춤\n",
    "자본 = 1  # re-scale과 같은 값으로 일치시킴\n",
    "\n",
    "KODEX코스닥150_CAGR = CAGR(KODEX코스닥150) # CAGR 구하기\n",
    "KODEX코스닥150_DD,KODEX코스닥150_MDD  = MDD(KODEX코스닥150)  # MDD 구하기\n",
    "누적월별수익 = 월별수익(KODEX코스닥150).cumprod()  #누적수익률 구하기\n",
    "print (\"KODEX코스닥150 CAGR {:.2%} \".format(KODEX코스닥150_CAGR))\n",
    "print (\"KODEX코스닥150 MDD {:.2%}\".format(KODEX코스닥150_MDD.min()))\n",
    "print (\"누적월별수익 {:.2%}\".format(누적월별수익[-1]))\n",
    "print (\"\")\n",
    "\n",
    "i2name = {1:\"개월1\",2:\"개월2\",3:\"개월3\",4:\"개월4\",5:\"개월5\",6:\"개월6\",\n",
    "         7:\"개월7\",8:\"개월8\",9:\"개월9\",10:\"개월10\",11:\"개월11\",12:\"개월12\"}\n",
    "결과 = KODEX코스닥150.copy()"
   ]
  },
  {
   "cell_type": "markdown",
   "metadata": {},
   "source": [
    "#### 절대모멘텀  3월이 '0'이상 이라면 4월 월수익을 사용한다. ? 3월 월수익은 2월달 투입금액의 수익이다."
   ]
  },
  {
   "cell_type": "code",
   "execution_count": 7,
   "metadata": {},
   "outputs": [],
   "source": [
    "월수익 = 월별수익(KODEX코스닥150)\n",
    "result = pd.Series([np.round(KODEX코스닥150_CAGR*100,2),np.round(KODEX코스닥150_MDD.min()*100,2),np.round(누적월별수익.dropna()[-1]*100,2)],index=[\"절대CAGR\",\"절대MDD\",\"누적월별수익\"], name=\"KODEX코스닥150\")\n",
    "for i in range(1,13):\n",
    "    # 절대모멘텀 결과값을 오른쪽을 shift한다. 이렇게 해야 투입 달, 다음달 수익률 곱으로 계산된다.\n",
    "    # 시계열 입력/결과 출력의 date index를 맞추게 된다.\n",
    "    모멘텀점수 = pd.Series(절대모멘텀(KODEX코스닥150,i)).shift(1)\n",
    "    누적월별수익 = 월수익[모멘텀점수.values == 1].cumprod()  #블린 인덱스후 월별수익은 누적곱으로 구한다.\n",
    "    절대 = 누적월별수익 * 자본; 절대.rename(i2name[i], inplace=True)\n",
    "    결과 = pd.concat([결과, 절대],axis=1)\n",
    "    절대CAGR = CAGR(절대.dropna())\n",
    "    절대DD, 절대MDD = MDD(절대)\n",
    "    i2name[i] = pd.Series([np.round(절대CAGR*100,2), np.round(절대MDD.min()*100,2), np.round(누적월별수익.dropna()[-1]*100,2)], index=[\"절대CAGR\",\"절대MDD\",\"누적월별수익\"], name=i)\n",
    "    result = pd.concat([result,i2name[i]],axis=1)"
   ]
  },
  {
   "cell_type": "code",
   "execution_count": 8,
   "metadata": {
    "scrolled": true
   },
   "outputs": [
    {
     "data": {
      "text/html": [
       "<div>\n",
       "<style scoped>\n",
       "    .dataframe tbody tr th:only-of-type {\n",
       "        vertical-align: middle;\n",
       "    }\n",
       "\n",
       "    .dataframe tbody tr th {\n",
       "        vertical-align: top;\n",
       "    }\n",
       "\n",
       "    .dataframe thead th {\n",
       "        text-align: right;\n",
       "    }\n",
       "</style>\n",
       "<table border=\"1\" class=\"dataframe\">\n",
       "  <thead>\n",
       "    <tr style=\"text-align: right;\">\n",
       "      <th></th>\n",
       "      <th>KODEX코스닥150</th>\n",
       "      <th>1</th>\n",
       "      <th>2</th>\n",
       "      <th>3</th>\n",
       "      <th>4</th>\n",
       "      <th>5</th>\n",
       "      <th>6</th>\n",
       "      <th>7</th>\n",
       "      <th>8</th>\n",
       "      <th>9</th>\n",
       "      <th>10</th>\n",
       "      <th>11</th>\n",
       "      <th>12</th>\n",
       "    </tr>\n",
       "  </thead>\n",
       "  <tbody>\n",
       "    <tr>\n",
       "      <th>절대CAGR</th>\n",
       "      <td>2.15</td>\n",
       "      <td>-0.07</td>\n",
       "      <td>5.77</td>\n",
       "      <td>7.46</td>\n",
       "      <td>26.03</td>\n",
       "      <td>11.90</td>\n",
       "      <td>14.08</td>\n",
       "      <td>9.10</td>\n",
       "      <td>12.45</td>\n",
       "      <td>18.51</td>\n",
       "      <td>5.83</td>\n",
       "      <td>4.68</td>\n",
       "      <td>4.68</td>\n",
       "    </tr>\n",
       "    <tr>\n",
       "      <th>절대MDD</th>\n",
       "      <td>-32.64</td>\n",
       "      <td>-29.04</td>\n",
       "      <td>-27.12</td>\n",
       "      <td>-28.97</td>\n",
       "      <td>-11.18</td>\n",
       "      <td>-16.97</td>\n",
       "      <td>-16.97</td>\n",
       "      <td>-23.95</td>\n",
       "      <td>-23.95</td>\n",
       "      <td>-23.95</td>\n",
       "      <td>-32.64</td>\n",
       "      <td>-32.64</td>\n",
       "      <td>-32.64</td>\n",
       "    </tr>\n",
       "    <tr>\n",
       "      <th>누적월별수익</th>\n",
       "      <td>111.21</td>\n",
       "      <td>100.04</td>\n",
       "      <td>128.18</td>\n",
       "      <td>114.85</td>\n",
       "      <td>162.77</td>\n",
       "      <td>138.93</td>\n",
       "      <td>148.56</td>\n",
       "      <td>126.12</td>\n",
       "      <td>124.24</td>\n",
       "      <td>137.99</td>\n",
       "      <td>110.05</td>\n",
       "      <td>112.01</td>\n",
       "      <td>107.66</td>\n",
       "    </tr>\n",
       "  </tbody>\n",
       "</table>\n",
       "</div>"
      ],
      "text/plain": [
       "        KODEX코스닥150       1       2       3       4       5       6       7  \\\n",
       "절대CAGR         2.15   -0.07    5.77    7.46   26.03   11.90   14.08    9.10   \n",
       "절대MDD        -32.64  -29.04  -27.12  -28.97  -11.18  -16.97  -16.97  -23.95   \n",
       "누적월별수익       111.21  100.04  128.18  114.85  162.77  138.93  148.56  126.12   \n",
       "\n",
       "             8       9      10      11      12  \n",
       "절대CAGR   12.45   18.51    5.83    4.68    4.68  \n",
       "절대MDD   -23.95  -23.95  -32.64  -32.64  -32.64  \n",
       "누적월별수익  124.24  137.99  110.05  112.01  107.66  "
      ]
     },
     "execution_count": 8,
     "metadata": {},
     "output_type": "execute_result"
    }
   ],
   "source": [
    "result"
   ]
  },
  {
   "cell_type": "code",
   "execution_count": 9,
   "metadata": {},
   "outputs": [
    {
     "data": {
      "text/html": [
       "<div>\n",
       "<style scoped>\n",
       "    .dataframe tbody tr th:only-of-type {\n",
       "        vertical-align: middle;\n",
       "    }\n",
       "\n",
       "    .dataframe tbody tr th {\n",
       "        vertical-align: top;\n",
       "    }\n",
       "\n",
       "    .dataframe thead th {\n",
       "        text-align: right;\n",
       "    }\n",
       "</style>\n",
       "<table border=\"1\" class=\"dataframe\">\n",
       "  <thead>\n",
       "    <tr style=\"text-align: right;\">\n",
       "      <th></th>\n",
       "      <th>KODEX코스닥150</th>\n",
       "      <th>개월1</th>\n",
       "      <th>개월2</th>\n",
       "      <th>개월3</th>\n",
       "      <th>개월4</th>\n",
       "      <th>개월5</th>\n",
       "      <th>개월6</th>\n",
       "      <th>개월7</th>\n",
       "      <th>개월8</th>\n",
       "      <th>개월9</th>\n",
       "      <th>개월10</th>\n",
       "      <th>개월11</th>\n",
       "      <th>개월12</th>\n",
       "    </tr>\n",
       "    <tr>\n",
       "      <th>Date</th>\n",
       "      <th></th>\n",
       "      <th></th>\n",
       "      <th></th>\n",
       "      <th></th>\n",
       "      <th></th>\n",
       "      <th></th>\n",
       "      <th></th>\n",
       "      <th></th>\n",
       "      <th></th>\n",
       "      <th></th>\n",
       "      <th></th>\n",
       "      <th></th>\n",
       "      <th></th>\n",
       "    </tr>\n",
       "  </thead>\n",
       "  <tbody>\n",
       "    <tr>\n",
       "      <th>2015-10-30</th>\n",
       "      <td>1.000000</td>\n",
       "      <td>NaN</td>\n",
       "      <td>NaN</td>\n",
       "      <td>NaN</td>\n",
       "      <td>NaN</td>\n",
       "      <td>NaN</td>\n",
       "      <td>NaN</td>\n",
       "      <td>NaN</td>\n",
       "      <td>NaN</td>\n",
       "      <td>NaN</td>\n",
       "      <td>NaN</td>\n",
       "      <td>NaN</td>\n",
       "      <td>NaN</td>\n",
       "    </tr>\n",
       "    <tr>\n",
       "      <th>2015-11-30</th>\n",
       "      <td>1.031459</td>\n",
       "      <td>NaN</td>\n",
       "      <td>NaN</td>\n",
       "      <td>NaN</td>\n",
       "      <td>NaN</td>\n",
       "      <td>NaN</td>\n",
       "      <td>NaN</td>\n",
       "      <td>NaN</td>\n",
       "      <td>NaN</td>\n",
       "      <td>NaN</td>\n",
       "      <td>NaN</td>\n",
       "      <td>NaN</td>\n",
       "      <td>NaN</td>\n",
       "    </tr>\n",
       "    <tr>\n",
       "      <th>2015-12-31</th>\n",
       "      <td>1.034806</td>\n",
       "      <td>1.003245</td>\n",
       "      <td>NaN</td>\n",
       "      <td>NaN</td>\n",
       "      <td>NaN</td>\n",
       "      <td>NaN</td>\n",
       "      <td>NaN</td>\n",
       "      <td>NaN</td>\n",
       "      <td>NaN</td>\n",
       "      <td>NaN</td>\n",
       "      <td>NaN</td>\n",
       "      <td>NaN</td>\n",
       "      <td>NaN</td>\n",
       "    </tr>\n",
       "    <tr>\n",
       "      <th>2016-01-29</th>\n",
       "      <td>1.059763</td>\n",
       "      <td>1.027440</td>\n",
       "      <td>1.024118</td>\n",
       "      <td>NaN</td>\n",
       "      <td>NaN</td>\n",
       "      <td>NaN</td>\n",
       "      <td>NaN</td>\n",
       "      <td>NaN</td>\n",
       "      <td>NaN</td>\n",
       "      <td>NaN</td>\n",
       "      <td>NaN</td>\n",
       "      <td>NaN</td>\n",
       "      <td>NaN</td>\n",
       "    </tr>\n",
       "    <tr>\n",
       "      <th>2016-02-29</th>\n",
       "      <td>0.980780</td>\n",
       "      <td>0.950867</td>\n",
       "      <td>0.947792</td>\n",
       "      <td>0.925471</td>\n",
       "      <td>NaN</td>\n",
       "      <td>NaN</td>\n",
       "      <td>NaN</td>\n",
       "      <td>NaN</td>\n",
       "      <td>NaN</td>\n",
       "      <td>NaN</td>\n",
       "      <td>NaN</td>\n",
       "      <td>NaN</td>\n",
       "      <td>NaN</td>\n",
       "    </tr>\n",
       "  </tbody>\n",
       "</table>\n",
       "</div>"
      ],
      "text/plain": [
       "            KODEX코스닥150       개월1       개월2       개월3  개월4  개월5  개월6  개월7  \\\n",
       "Date                                                                        \n",
       "2015-10-30     1.000000       NaN       NaN       NaN  NaN  NaN  NaN  NaN   \n",
       "2015-11-30     1.031459       NaN       NaN       NaN  NaN  NaN  NaN  NaN   \n",
       "2015-12-31     1.034806  1.003245       NaN       NaN  NaN  NaN  NaN  NaN   \n",
       "2016-01-29     1.059763  1.027440  1.024118       NaN  NaN  NaN  NaN  NaN   \n",
       "2016-02-29     0.980780  0.950867  0.947792  0.925471  NaN  NaN  NaN  NaN   \n",
       "\n",
       "            개월8  개월9  개월10  개월11  개월12  \n",
       "Date                                    \n",
       "2015-10-30  NaN  NaN   NaN   NaN   NaN  \n",
       "2015-11-30  NaN  NaN   NaN   NaN   NaN  \n",
       "2015-12-31  NaN  NaN   NaN   NaN   NaN  \n",
       "2016-01-29  NaN  NaN   NaN   NaN   NaN  \n",
       "2016-02-29  NaN  NaN   NaN   NaN   NaN  "
      ]
     },
     "execution_count": 9,
     "metadata": {},
     "output_type": "execute_result"
    }
   ],
   "source": [
    "결과.head()"
   ]
  },
  {
   "cell_type": "markdown",
   "metadata": {},
   "source": [
    "### 그래프 그리기"
   ]
  },
  {
   "cell_type": "code",
   "execution_count": 24,
   "metadata": {
    "scrolled": true
   },
   "outputs": [
    {
     "data": {
      "image/png": "[encoded data removed]",
      "text/plain": [
       "<matplotlib.figure.Figure at 0xd26650>"
      ]
     },
     "metadata": {},
     "output_type": "display_data"
    }
   ],
   "source": [
    "import matplotlib.pyplot as plt\n",
    "import matplotlib\n",
    "matplotlib.rcParams['axes.unicode_minus'] = False\n",
    "from matplotlib import rc, font_manager\n",
    "rc(\"font\", family=\"NanumGothic\")\n",
    "\n",
    "%matplotlib inline\n",
    "\n",
    "fig = plt.figure(figsize=(14,6))\n",
    "ax = fig.add_subplot(1,1,1)\n",
    "#ax.plot(결과[\"1개월\"]);\n",
    "ax.plot(결과[\"개월3\"]);\n",
    "ax.plot(결과[\"개월6\"]);\n",
    "ax.plot(결과[\"개월9\"]);\n",
    "ax.plot(결과[\"개월12\"]);\n",
    "ax.plot(KODEX코스닥150,color=\"Black\", label=\"KODEX코스닥150\");\n",
    "ax.legend();"
   ]
  },
  {
   "cell_type": "markdown",
   "metadata": {},
   "source": [
    "### Monthly MDD & Max MDD"
   ]
  },
  {
   "cell_type": "code",
   "execution_count": 13,
   "metadata": {},
   "outputs": [
    {
     "data": {
      "text/plain": [
       "<matplotlib.legend.Legend at 0xa7dc850>"
      ]
     },
     "execution_count": 13,
     "metadata": {},
     "output_type": "execute_result"
    },
    {
     "data": {
      "image/png": "[encoded data removed]",
      "text/plain": [
       "<matplotlib.figure.Figure at 0xa0c97b0>"
      ]
     },
     "metadata": {},
     "output_type": "display_data"
    }
   ],
   "source": [
    "import matplotlib.pyplot as plt\n",
    "import matplotlib\n",
    "matplotlib.rcParams['axes.unicode_minus'] = False\n",
    "from matplotlib import rc, font_manager\n",
    "rc(\"font\", family=\"NanumGothic\")\n",
    "\n",
    "%matplotlib inline\n",
    "\n",
    "fig = plt.figure(figsize=(14,6))\n",
    "ax = fig.add_subplot(1,1,1)\n",
    "ax.plot(절대MDD,color=\"Black\",label=\"절대MDD\");\n",
    "ax.plot(KODEX코스닥150_MDD,color=\"Red\", label=\"KODEX코스닥150_MDD\");\n",
    "ax.legend()"
   ]
  }
 ],
 "metadata": {
  "kernelspec": {
   "display_name": "Python 3",
   "language": "python",
   "name": "python3"
  },
  "language_info": {
   "codemirror_mode": {
    "name": "ipython",
    "version": 3
   },
   "file_extension": ".py",
   "mimetype": "text/x-python",
   "name": "python",
   "nbconvert_exporter": "python",
   "pygments_lexer": "ipython3",
   "version": "3.6.4"
  }
 },
 "nbformat": 4,
 "nbformat_minor": 2
}
