{
 "cells": [
  {
   "cell_type": "code",
   "execution_count": 1,
   "metadata": {},
   "outputs": [],
   "source": [
    "import pandas as pd\n",
    "import numpy as np"
   ]
  },
  {
   "cell_type": "code",
   "execution_count": 2,
   "metadata": {
    "scrolled": true
   },
   "outputs": [
    {
     "data": {
      "text/html": [
       "<div>\n",
       "<style scoped>\n",
       "    .dataframe tbody tr th:only-of-type {\n",
       "        vertical-align: middle;\n",
       "    }\n",
       "\n",
       "    .dataframe tbody tr th {\n",
       "        vertical-align: top;\n",
       "    }\n",
       "\n",
       "    .dataframe thead th {\n",
       "        text-align: right;\n",
       "    }\n",
       "</style>\n",
       "<table border=\"1\" class=\"dataframe\">\n",
       "  <thead>\n",
       "    <tr style=\"text-align: right;\">\n",
       "      <th></th>\n",
       "      <th>a</th>\n",
       "      <th>b</th>\n",
       "      <th>c</th>\n",
       "      <th>d</th>\n",
       "    </tr>\n",
       "  </thead>\n",
       "  <tbody>\n",
       "    <tr>\n",
       "      <th>0</th>\n",
       "      <td>1.045640</td>\n",
       "      <td>1.183414</td>\n",
       "      <td>-0.630443</td>\n",
       "      <td>-1.261745</td>\n",
       "    </tr>\n",
       "    <tr>\n",
       "      <th>1</th>\n",
       "      <td>0.867072</td>\n",
       "      <td>-0.155740</td>\n",
       "      <td>-0.066345</td>\n",
       "      <td>0.954073</td>\n",
       "    </tr>\n",
       "    <tr>\n",
       "      <th>2</th>\n",
       "      <td>1.489081</td>\n",
       "      <td>-1.289125</td>\n",
       "      <td>-0.485874</td>\n",
       "      <td>-1.029169</td>\n",
       "    </tr>\n",
       "    <tr>\n",
       "      <th>3</th>\n",
       "      <td>0.710958</td>\n",
       "      <td>1.331165</td>\n",
       "      <td>-0.761348</td>\n",
       "      <td>-0.363487</td>\n",
       "    </tr>\n",
       "    <tr>\n",
       "      <th>4</th>\n",
       "      <td>1.165919</td>\n",
       "      <td>0.029734</td>\n",
       "      <td>1.867658</td>\n",
       "      <td>-0.517311</td>\n",
       "    </tr>\n",
       "    <tr>\n",
       "      <th>5</th>\n",
       "      <td>-0.157971</td>\n",
       "      <td>-1.304051</td>\n",
       "      <td>-1.969125</td>\n",
       "      <td>0.844922</td>\n",
       "    </tr>\n",
       "    <tr>\n",
       "      <th>6</th>\n",
       "      <td>-0.140249</td>\n",
       "      <td>-0.338781</td>\n",
       "      <td>0.150759</td>\n",
       "      <td>-0.593450</td>\n",
       "    </tr>\n",
       "    <tr>\n",
       "      <th>7</th>\n",
       "      <td>0.101777</td>\n",
       "      <td>0.200370</td>\n",
       "      <td>2.055585</td>\n",
       "      <td>-0.073338</td>\n",
       "    </tr>\n",
       "    <tr>\n",
       "      <th>8</th>\n",
       "      <td>-1.302732</td>\n",
       "      <td>0.217212</td>\n",
       "      <td>0.481578</td>\n",
       "      <td>0.106576</td>\n",
       "    </tr>\n",
       "    <tr>\n",
       "      <th>9</th>\n",
       "      <td>-0.511837</td>\n",
       "      <td>-0.290087</td>\n",
       "      <td>1.168049</td>\n",
       "      <td>-0.298858</td>\n",
       "    </tr>\n",
       "  </tbody>\n",
       "</table>\n",
       "</div>"
      ],
      "text/plain": [
       "          a         b         c         d\n",
       "0  1.045640  1.183414 -0.630443 -1.261745\n",
       "1  0.867072 -0.155740 -0.066345  0.954073\n",
       "2  1.489081 -1.289125 -0.485874 -1.029169\n",
       "3  0.710958  1.331165 -0.761348 -0.363487\n",
       "4  1.165919  0.029734  1.867658 -0.517311\n",
       "5 -0.157971 -1.304051 -1.969125  0.844922\n",
       "6 -0.140249 -0.338781  0.150759 -0.593450\n",
       "7  0.101777  0.200370  2.055585 -0.073338\n",
       "8 -1.302732  0.217212  0.481578  0.106576\n",
       "9 -0.511837 -0.290087  1.168049 -0.298858"
      ]
     },
     "execution_count": 2,
     "metadata": {},
     "output_type": "execute_result"
    }
   ],
   "source": [
    "df = pd.DataFrame(np.random.randn(10, 4),columns=[\"a\",\"b\",\"c\",\"d\"])\n",
    "df"
   ]
  },
  {
   "cell_type": "code",
   "execution_count": 7,
   "metadata": {},
   "outputs": [
    {
     "data": {
      "text/plain": [
       "e    0\n",
       "Name: sr, dtype: object"
      ]
     },
     "execution_count": 7,
     "metadata": {},
     "output_type": "execute_result"
    }
   ],
   "source": [
    "sr = pd.Series([\"0\"],index=[\"e\"])\n",
    "sr.rename(\"sr\",inplace=True)"
   ]
  },
  {
   "cell_type": "code",
   "execution_count": 8,
   "metadata": {},
   "outputs": [
    {
     "data": {
      "text/html": [
       "<div>\n",
       "<style scoped>\n",
       "    .dataframe tbody tr th:only-of-type {\n",
       "        vertical-align: middle;\n",
       "    }\n",
       "\n",
       "    .dataframe tbody tr th {\n",
       "        vertical-align: top;\n",
       "    }\n",
       "\n",
       "    .dataframe thead th {\n",
       "        text-align: right;\n",
       "    }\n",
       "</style>\n",
       "<table border=\"1\" class=\"dataframe\">\n",
       "  <thead>\n",
       "    <tr style=\"text-align: right;\">\n",
       "      <th></th>\n",
       "      <th>a</th>\n",
       "      <th>b</th>\n",
       "      <th>c</th>\n",
       "      <th>d</th>\n",
       "    </tr>\n",
       "  </thead>\n",
       "  <tbody>\n",
       "    <tr>\n",
       "      <th>0</th>\n",
       "      <td>1.045640</td>\n",
       "      <td>1.183414</td>\n",
       "      <td>-0.630443</td>\n",
       "      <td>-1.261745</td>\n",
       "    </tr>\n",
       "    <tr>\n",
       "      <th>1</th>\n",
       "      <td>0.867072</td>\n",
       "      <td>-0.155740</td>\n",
       "      <td>-0.066345</td>\n",
       "      <td>0.954073</td>\n",
       "    </tr>\n",
       "    <tr>\n",
       "      <th>2</th>\n",
       "      <td>1.489081</td>\n",
       "      <td>-1.289125</td>\n",
       "      <td>-0.485874</td>\n",
       "      <td>-1.029169</td>\n",
       "    </tr>\n",
       "    <tr>\n",
       "      <th>3</th>\n",
       "      <td>0.710958</td>\n",
       "      <td>1.331165</td>\n",
       "      <td>-0.761348</td>\n",
       "      <td>-0.363487</td>\n",
       "    </tr>\n",
       "    <tr>\n",
       "      <th>4</th>\n",
       "      <td>1.165919</td>\n",
       "      <td>0.029734</td>\n",
       "      <td>1.867658</td>\n",
       "      <td>-0.517311</td>\n",
       "    </tr>\n",
       "    <tr>\n",
       "      <th>5</th>\n",
       "      <td>-0.157971</td>\n",
       "      <td>-1.304051</td>\n",
       "      <td>-1.969125</td>\n",
       "      <td>0.844922</td>\n",
       "    </tr>\n",
       "    <tr>\n",
       "      <th>6</th>\n",
       "      <td>-0.140249</td>\n",
       "      <td>-0.338781</td>\n",
       "      <td>0.150759</td>\n",
       "      <td>-0.593450</td>\n",
       "    </tr>\n",
       "    <tr>\n",
       "      <th>7</th>\n",
       "      <td>0.101777</td>\n",
       "      <td>0.200370</td>\n",
       "      <td>2.055585</td>\n",
       "      <td>-0.073338</td>\n",
       "    </tr>\n",
       "    <tr>\n",
       "      <th>8</th>\n",
       "      <td>-1.302732</td>\n",
       "      <td>0.217212</td>\n",
       "      <td>0.481578</td>\n",
       "      <td>0.106576</td>\n",
       "    </tr>\n",
       "    <tr>\n",
       "      <th>9</th>\n",
       "      <td>-0.511837</td>\n",
       "      <td>-0.290087</td>\n",
       "      <td>1.168049</td>\n",
       "      <td>-0.298858</td>\n",
       "    </tr>\n",
       "  </tbody>\n",
       "</table>\n",
       "</div>"
      ],
      "text/plain": [
       "          a         b         c         d\n",
       "0  1.045640  1.183414 -0.630443 -1.261745\n",
       "1  0.867072 -0.155740 -0.066345  0.954073\n",
       "2  1.489081 -1.289125 -0.485874 -1.029169\n",
       "3  0.710958  1.331165 -0.761348 -0.363487\n",
       "4  1.165919  0.029734  1.867658 -0.517311\n",
       "5 -0.157971 -1.304051 -1.969125  0.844922\n",
       "6 -0.140249 -0.338781  0.150759 -0.593450\n",
       "7  0.101777  0.200370  2.055585 -0.073338\n",
       "8 -1.302732  0.217212  0.481578  0.106576\n",
       "9 -0.511837 -0.290087  1.168049 -0.298858"
      ]
     },
     "execution_count": 8,
     "metadata": {},
     "output_type": "execute_result"
    }
   ],
   "source": [
    "df"
   ]
  },
  {
   "cell_type": "code",
   "execution_count": 9,
   "metadata": {},
   "outputs": [
    {
     "data": {
      "text/html": [
       "<div>\n",
       "<style scoped>\n",
       "    .dataframe tbody tr th:only-of-type {\n",
       "        vertical-align: middle;\n",
       "    }\n",
       "\n",
       "    .dataframe tbody tr th {\n",
       "        vertical-align: top;\n",
       "    }\n",
       "\n",
       "    .dataframe thead th {\n",
       "        text-align: right;\n",
       "    }\n",
       "</style>\n",
       "<table border=\"1\" class=\"dataframe\">\n",
       "  <thead>\n",
       "    <tr style=\"text-align: right;\">\n",
       "      <th></th>\n",
       "      <th>a</th>\n",
       "      <th>b</th>\n",
       "      <th>c</th>\n",
       "      <th>d</th>\n",
       "      <th>e</th>\n",
       "    </tr>\n",
       "  </thead>\n",
       "  <tbody>\n",
       "    <tr>\n",
       "      <th>0</th>\n",
       "      <td>1.045640</td>\n",
       "      <td>1.183414</td>\n",
       "      <td>-0.630443</td>\n",
       "      <td>-1.261745</td>\n",
       "      <td>NaN</td>\n",
       "    </tr>\n",
       "    <tr>\n",
       "      <th>1</th>\n",
       "      <td>0.867072</td>\n",
       "      <td>-0.155740</td>\n",
       "      <td>-0.066345</td>\n",
       "      <td>0.954073</td>\n",
       "      <td>NaN</td>\n",
       "    </tr>\n",
       "    <tr>\n",
       "      <th>2</th>\n",
       "      <td>1.489081</td>\n",
       "      <td>-1.289125</td>\n",
       "      <td>-0.485874</td>\n",
       "      <td>-1.029169</td>\n",
       "      <td>NaN</td>\n",
       "    </tr>\n",
       "    <tr>\n",
       "      <th>3</th>\n",
       "      <td>0.710958</td>\n",
       "      <td>1.331165</td>\n",
       "      <td>-0.761348</td>\n",
       "      <td>-0.363487</td>\n",
       "      <td>NaN</td>\n",
       "    </tr>\n",
       "    <tr>\n",
       "      <th>4</th>\n",
       "      <td>1.165919</td>\n",
       "      <td>0.029734</td>\n",
       "      <td>1.867658</td>\n",
       "      <td>-0.517311</td>\n",
       "      <td>NaN</td>\n",
       "    </tr>\n",
       "    <tr>\n",
       "      <th>5</th>\n",
       "      <td>-0.157971</td>\n",
       "      <td>-1.304051</td>\n",
       "      <td>-1.969125</td>\n",
       "      <td>0.844922</td>\n",
       "      <td>NaN</td>\n",
       "    </tr>\n",
       "    <tr>\n",
       "      <th>6</th>\n",
       "      <td>-0.140249</td>\n",
       "      <td>-0.338781</td>\n",
       "      <td>0.150759</td>\n",
       "      <td>-0.593450</td>\n",
       "      <td>NaN</td>\n",
       "    </tr>\n",
       "    <tr>\n",
       "      <th>7</th>\n",
       "      <td>0.101777</td>\n",
       "      <td>0.200370</td>\n",
       "      <td>2.055585</td>\n",
       "      <td>-0.073338</td>\n",
       "      <td>NaN</td>\n",
       "    </tr>\n",
       "    <tr>\n",
       "      <th>8</th>\n",
       "      <td>-1.302732</td>\n",
       "      <td>0.217212</td>\n",
       "      <td>0.481578</td>\n",
       "      <td>0.106576</td>\n",
       "      <td>NaN</td>\n",
       "    </tr>\n",
       "    <tr>\n",
       "      <th>9</th>\n",
       "      <td>-0.511837</td>\n",
       "      <td>-0.290087</td>\n",
       "      <td>1.168049</td>\n",
       "      <td>-0.298858</td>\n",
       "      <td>NaN</td>\n",
       "    </tr>\n",
       "    <tr>\n",
       "      <th>sr</th>\n",
       "      <td>NaN</td>\n",
       "      <td>NaN</td>\n",
       "      <td>NaN</td>\n",
       "      <td>NaN</td>\n",
       "      <td>0</td>\n",
       "    </tr>\n",
       "  </tbody>\n",
       "</table>\n",
       "</div>"
      ],
      "text/plain": [
       "           a         b         c         d    e\n",
       "0   1.045640  1.183414 -0.630443 -1.261745  NaN\n",
       "1   0.867072 -0.155740 -0.066345  0.954073  NaN\n",
       "2   1.489081 -1.289125 -0.485874 -1.029169  NaN\n",
       "3   0.710958  1.331165 -0.761348 -0.363487  NaN\n",
       "4   1.165919  0.029734  1.867658 -0.517311  NaN\n",
       "5  -0.157971 -1.304051 -1.969125  0.844922  NaN\n",
       "6  -0.140249 -0.338781  0.150759 -0.593450  NaN\n",
       "7   0.101777  0.200370  2.055585 -0.073338  NaN\n",
       "8  -1.302732  0.217212  0.481578  0.106576  NaN\n",
       "9  -0.511837 -0.290087  1.168049 -0.298858  NaN\n",
       "sr       NaN       NaN       NaN       NaN    0"
      ]
     },
     "execution_count": 9,
     "metadata": {},
     "output_type": "execute_result"
    }
   ],
   "source": [
    "df.append(sr)"
   ]
  },
  {
   "cell_type": "code",
   "execution_count": 11,
   "metadata": {},
   "outputs": [
    {
     "data": {
      "text/plain": [
       "e    0\n",
       "Name: sr, dtype: object"
      ]
     },
     "execution_count": 11,
     "metadata": {},
     "output_type": "execute_result"
    }
   ],
   "source": [
    "sr"
   ]
  },
  {
   "cell_type": "code",
   "execution_count": 17,
   "metadata": {},
   "outputs": [],
   "source": [
    "sr[0] = 2"
   ]
  },
  {
   "cell_type": "code",
   "execution_count": 20,
   "metadata": {},
   "outputs": [],
   "source": [
    "sr[\"1\"] =3"
   ]
  },
  {
   "cell_type": "code",
   "execution_count": 23,
   "metadata": {},
   "outputs": [],
   "source": [
    "sr2 = pd.Series(\"1,2,3\")"
   ]
  },
  {
   "cell_type": "code",
   "execution_count": 25,
   "metadata": {},
   "outputs": [],
   "source": [
    "sr2[\"1\"] =2"
   ]
  },
  {
   "cell_type": "code",
   "execution_count": 26,
   "metadata": {},
   "outputs": [
    {
     "data": {
      "text/plain": [
       "0    1,2,3\n",
       "1        2\n",
       "dtype: object"
      ]
     },
     "execution_count": 26,
     "metadata": {},
     "output_type": "execute_result"
    }
   ],
   "source": [
    "sr2"
   ]
  },
  {
   "cell_type": "code",
   "execution_count": 37,
   "metadata": {},
   "outputs": [],
   "source": [
    "l = list(\"ab\")"
   ]
  },
  {
   "cell_type": "code",
   "execution_count": 38,
   "metadata": {},
   "outputs": [],
   "source": [
    "sr3 = pd.Series(l)"
   ]
  },
  {
   "cell_type": "code",
   "execution_count": 39,
   "metadata": {},
   "outputs": [
    {
     "data": {
      "text/plain": [
       "0    a\n",
       "1    b\n",
       "dtype: object"
      ]
     },
     "execution_count": 39,
     "metadata": {},
     "output_type": "execute_result"
    }
   ],
   "source": [
    "sr3"
   ]
  },
  {
   "cell_type": "code",
   "execution_count": null,
   "metadata": {},
   "outputs": [],
   "source": []
  }
 ],
 "metadata": {
  "kernelspec": {
   "display_name": "Python 3",
   "language": "python",
   "name": "python3"
  },
  "language_info": {
   "codemirror_mode": {
    "name": "ipython",
    "version": 3
   },
   "file_extension": ".py",
   "mimetype": "text/x-python",
   "name": "python",
   "nbconvert_exporter": "python",
   "pygments_lexer": "ipython3",
   "version": "3.6.4"
  }
 },
 "nbformat": 4,
 "nbformat_minor": 2
}
