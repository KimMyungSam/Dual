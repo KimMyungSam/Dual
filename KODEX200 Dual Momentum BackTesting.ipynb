{
 "cells": [
  {
   "cell_type": "code",
   "execution_count": 1,
   "metadata": {},
   "outputs": [],
   "source": [
    "import pandas as pd\n",
    "import numpy as np\n",
    "import matplotlib.pyplot as plt"
   ]
  },
  {
   "cell_type": "code",
   "execution_count": 2,
   "metadata": {},
   "outputs": [],
   "source": [
    "df = pd.read_csv(\"KODEX200_monthly_data.csv\", encoding=\"utf-8\")"
   ]
  },
  {
   "cell_type": "code",
   "execution_count": 3,
   "metadata": {
    "scrolled": false
   },
   "outputs": [
    {
     "data": {
      "text/html": [
       "<div>\n",
       "<style scoped>\n",
       "    .dataframe tbody tr th:only-of-type {\n",
       "        vertical-align: middle;\n",
       "    }\n",
       "\n",
       "    .dataframe tbody tr th {\n",
       "        vertical-align: top;\n",
       "    }\n",
       "\n",
       "    .dataframe thead th {\n",
       "        text-align: right;\n",
       "    }\n",
       "</style>\n",
       "<table border=\"1\" class=\"dataframe\">\n",
       "  <thead>\n",
       "    <tr style=\"text-align: right;\">\n",
       "      <th></th>\n",
       "      <th>Date</th>\n",
       "      <th>Open</th>\n",
       "      <th>High</th>\n",
       "      <th>Low</th>\n",
       "      <th>Close</th>\n",
       "      <th>Volume</th>\n",
       "      <th>Change</th>\n",
       "    </tr>\n",
       "  </thead>\n",
       "  <tbody>\n",
       "    <tr>\n",
       "      <th>0</th>\n",
       "      <td>2010-01-29</td>\n",
       "      <td>19052</td>\n",
       "      <td>19066</td>\n",
       "      <td>18668</td>\n",
       "      <td>18742</td>\n",
       "      <td>2717811</td>\n",
       "      <td>-0.026996</td>\n",
       "    </tr>\n",
       "    <tr>\n",
       "      <th>1</th>\n",
       "      <td>2010-02-26</td>\n",
       "      <td>18611</td>\n",
       "      <td>18683</td>\n",
       "      <td>18514</td>\n",
       "      <td>18559</td>\n",
       "      <td>974615</td>\n",
       "      <td>0.000431</td>\n",
       "    </tr>\n",
       "    <tr>\n",
       "      <th>2</th>\n",
       "      <td>2010-03-31</td>\n",
       "      <td>19853</td>\n",
       "      <td>19858</td>\n",
       "      <td>19729</td>\n",
       "      <td>19789</td>\n",
       "      <td>883019</td>\n",
       "      <td>-0.003776</td>\n",
       "    </tr>\n",
       "    <tr>\n",
       "      <th>3</th>\n",
       "      <td>2010-04-30</td>\n",
       "      <td>20331</td>\n",
       "      <td>20403</td>\n",
       "      <td>20313</td>\n",
       "      <td>20377</td>\n",
       "      <td>758179</td>\n",
       "      <td>0.007814</td>\n",
       "    </tr>\n",
       "    <tr>\n",
       "      <th>4</th>\n",
       "      <td>2010-05-31</td>\n",
       "      <td>18887</td>\n",
       "      <td>19126</td>\n",
       "      <td>18882</td>\n",
       "      <td>19134</td>\n",
       "      <td>1979678</td>\n",
       "      <td>0.012220</td>\n",
       "    </tr>\n",
       "  </tbody>\n",
       "</table>\n",
       "</div>"
      ],
      "text/plain": [
       "         Date   Open   High    Low  Close   Volume    Change\n",
       "0  2010-01-29  19052  19066  18668  18742  2717811 -0.026996\n",
       "1  2010-02-26  18611  18683  18514  18559   974615  0.000431\n",
       "2  2010-03-31  19853  19858  19729  19789   883019 -0.003776\n",
       "3  2010-04-30  20331  20403  20313  20377   758179  0.007814\n",
       "4  2010-05-31  18887  19126  18882  19134  1979678  0.012220"
      ]
     },
     "execution_count": 3,
     "metadata": {},
     "output_type": "execute_result"
    }
   ],
   "source": [
    "df.head()"
   ]
  },
  {
   "cell_type": "code",
   "execution_count": 4,
   "metadata": {},
   "outputs": [],
   "source": [
    "kodex200 = df[[\"Date\",\"Close\"]]\n",
    "kodex200.index = kodex200[\"Date\"]\n",
    "del kodex200[\"Date\"]"
   ]
  },
  {
   "cell_type": "markdown",
   "metadata": {},
   "source": [
    "### 12개월 평균 모멘텀 및 스코어 구하기"
   ]
  },
  {
   "cell_type": "code",
   "execution_count": 5,
   "metadata": {},
   "outputs": [],
   "source": [
    "# 평균모멘텀 구하기\n",
    "def 평균모멘텀구하기(data,month):\n",
    "    result = 0\n",
    "    for i in range(1,(month+1),1):\n",
    "        result = data / data.shift(i) + result\n",
    "    return result/month\n",
    "\n",
    "# 평균모멘텀 스코어 구하기\n",
    "def 평균모멘텀스코어구하기(data,month):\n",
    "    result = 0\n",
    "    for i in range(1,(month+1),1):\n",
    "        result = np.where(data / data.shift(i) > 1,1,0) + result\n",
    "    score = pd.DataFrame(result/month, index=data.index,columns=[\"score\"]) \n",
    "    return score"
   ]
  },
  {
   "cell_type": "markdown",
   "metadata": {},
   "source": [
    "### 12개월 평균 모멘텀 구하기"
   ]
  },
  {
   "cell_type": "code",
   "execution_count": 6,
   "metadata": {
    "scrolled": true
   },
   "outputs": [],
   "source": [
    "# 현금투자할 상수 = 현금비율 0.5는 50%를 뜻함.\n",
    "cash = 0.5\n",
    "# 평균모멘텀스코어구하기\n",
    "score12 = 평균모멘텀스코어구하기(kodex200[\"Close\"],12)\n",
    "# 평균모멘텀스코어와 종목[\"Close\"] 합침\n",
    "momentum12 = pd.concat([kodex200, score12], axis=1)"
   ]
  },
  {
   "cell_type": "markdown",
   "metadata": {},
   "source": [
    "### 주식, 현금 투자비율"
   ]
  },
  {
   "cell_type": "code",
   "execution_count": 7,
   "metadata": {},
   "outputs": [],
   "source": [
    "#주식투자 비율 = 주식 평균모멘텀 스코어 / (주식 평균모멘텀 스코어 + 현금상수)\n",
    "stock_rate = momentum12[\"score\"] / (cash + momentum12[\"score\"])\n",
    "#현금보유 비율 = 1 - 주식비율\n",
    "cash_rate = 1 - stock_rate"
   ]
  },
  {
   "cell_type": "markdown",
   "metadata": {},
   "source": [
    "### 전략 수익곡선 6개월 평가"
   ]
  },
  {
   "cell_type": "code",
   "execution_count": 9,
   "metadata": {
    "scrolled": true
   },
   "outputs": [],
   "source": [
    "m12 = 평균모멘텀구하기(kodex200[\"Close\"],12)\n",
    "score6 = 평균모멘텀스코어구하기(m12,6)\n",
    "momentum6 = pd.concat([kodex200, score6], axis=1)"
   ]
  },
  {
   "cell_type": "markdown",
   "metadata": {},
   "source": [
    "### 그래프 그리기"
   ]
  },
  {
   "cell_type": "code",
   "execution_count": null,
   "metadata": {
    "scrolled": true
   },
   "outputs": [],
   "source": [
    "plt.title(\"KODEX200 Dual Momentum\")\n",
    "plt.plot(momentum12[\"score\"])\n",
    "plt.plot(momentum6[\"score\"])"
   ]
  },
  {
   "cell_type": "code",
   "execution_count": null,
   "metadata": {},
   "outputs": [],
   "source": [
    "plt.title(\"KODEX200 수익곡선\")\n",
    "plt.plot(momentum6[\"score\"])"
   ]
  }
 ],
 "metadata": {
  "kernelspec": {
   "display_name": "Python 3",
   "language": "python",
   "name": "python3"
  },
  "language_info": {
   "codemirror_mode": {
    "name": "ipython",
    "version": 3
   },
   "file_extension": ".py",
   "mimetype": "text/x-python",
   "name": "python",
   "nbconvert_exporter": "python",
   "pygments_lexer": "ipython3",
   "version": "3.6.4"
  }
 },
 "nbformat": 4,
 "nbformat_minor": 2
}
