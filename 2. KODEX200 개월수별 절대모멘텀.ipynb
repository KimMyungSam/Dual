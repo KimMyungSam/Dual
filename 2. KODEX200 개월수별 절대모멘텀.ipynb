{
 "cells": [
  {
   "cell_type": "markdown",
   "metadata": {},
   "source": [
    "# 2. KODEX200 개월수별 절대모멘텀"
   ]
  },
  {
   "cell_type": "code",
   "execution_count": 1,
   "metadata": {},
   "outputs": [],
   "source": [
    "import pandas as pd\n",
    "import numpy as np"
   ]
  },
  {
   "cell_type": "markdown",
   "metadata": {},
   "source": [
    "### 함수"
   ]
  },
  {
   "cell_type": "code",
   "execution_count": 2,
   "metadata": {},
   "outputs": [],
   "source": [
    "def 월별수익(data):\n",
    "    result = data/data.shift(1)\n",
    "    return result"
   ]
  },
  {
   "cell_type": "code",
   "execution_count": 3,
   "metadata": {},
   "outputs": [],
   "source": [
    "def 절대모멘텀(data,month):\n",
    "    # shift를 사용하여 원화는 달의 수익률을 구한다\n",
    "    # 당월주가 > n 개월 전 주가(n개월 모멘텀 > 0) --> 주식매수\n",
    "    # 당월주가 < n 개월 전 주가(n개월 모멘텀 < 0) --> 주식매도\n",
    "    result = np.where(data > data.shift(month),1,0)\n",
    "    return result"
   ]
  },
  {
   "cell_type": "code",
   "execution_count": 14,
   "metadata": {},
   "outputs": [],
   "source": [
    "def CAGR(data):\n",
    "    y = data.index.year.unique()\n",
    "    result = (data[-1]/data[0])**(1/len(y))-1\n",
    "    return np.round(result,4)"
   ]
  },
  {
   "cell_type": "code",
   "execution_count": 5,
   "metadata": {},
   "outputs": [],
   "source": [
    "def MDD(data):\n",
    "    # We are going to use a trailing 252 trading day window\n",
    "    window = len(data)\n",
    "\n",
    "    # Calculate the max drawdown in the past window days for each day in the series.\n",
    "    # Use min_periods=1 if you want to let the first 252 days data have an expanding window\n",
    "    Roll_Max = data.rolling(window, min_periods=1).max()\n",
    "    Roll_Max.rename(\"Roll_Max\", inplace=True)\n",
    "    Drawdown = data/Roll_Max - 1.0\n",
    "    Drawdown.rename(\"Drawdown\", inplace=True)\n",
    "\n",
    "    # Next we calculate the minimum (negative) daily drawdown in that window.\n",
    "    # Again, use min_periods=1 if you want to allow the expanding window\n",
    "    Max_Drawdown = Drawdown.rolling(window, min_periods=1).min()\n",
    "    Max_Drawdown.rename(\"Max_Drawdown\", inplace=True)\n",
    "    \n",
    "    return np.round(Drawdown,4), np.round(Max_Drawdown,4)"
   ]
  },
  {
   "cell_type": "markdown",
   "metadata": {},
   "source": [
    "# Main"
   ]
  },
  {
   "cell_type": "markdown",
   "metadata": {},
   "source": [
    "### csv 파일 읽어오기"
   ]
  },
  {
   "cell_type": "code",
   "execution_count": 6,
   "metadata": {},
   "outputs": [],
   "source": [
    "df = pd.read_csv(\"KODEX200_monthly_data.csv\", encoding=\"utf-8\")"
   ]
  },
  {
   "cell_type": "markdown",
   "metadata": {},
   "source": [
    "### Index는 datetime 형으로 변환하기"
   ]
  },
  {
   "cell_type": "code",
   "execution_count": 7,
   "metadata": {
    "scrolled": true
   },
   "outputs": [
    {
     "data": {
      "text/html": [
       "<div>\n",
       "<style scoped>\n",
       "    .dataframe tbody tr th:only-of-type {\n",
       "        vertical-align: middle;\n",
       "    }\n",
       "\n",
       "    .dataframe tbody tr th {\n",
       "        vertical-align: top;\n",
       "    }\n",
       "\n",
       "    .dataframe thead th {\n",
       "        text-align: right;\n",
       "    }\n",
       "</style>\n",
       "<table border=\"1\" class=\"dataframe\">\n",
       "  <thead>\n",
       "    <tr style=\"text-align: right;\">\n",
       "      <th></th>\n",
       "      <th>Date</th>\n",
       "      <th>Open</th>\n",
       "      <th>High</th>\n",
       "      <th>Low</th>\n",
       "      <th>Close</th>\n",
       "      <th>Volume</th>\n",
       "      <th>Change</th>\n",
       "    </tr>\n",
       "    <tr>\n",
       "      <th>Date</th>\n",
       "      <th></th>\n",
       "      <th></th>\n",
       "      <th></th>\n",
       "      <th></th>\n",
       "      <th></th>\n",
       "      <th></th>\n",
       "      <th></th>\n",
       "    </tr>\n",
       "  </thead>\n",
       "  <tbody>\n",
       "    <tr>\n",
       "      <th>2010-01-29</th>\n",
       "      <td>2010-01-29</td>\n",
       "      <td>19052</td>\n",
       "      <td>19066</td>\n",
       "      <td>18668</td>\n",
       "      <td>18742</td>\n",
       "      <td>2717811</td>\n",
       "      <td>-0.026996</td>\n",
       "    </tr>\n",
       "    <tr>\n",
       "      <th>2010-02-26</th>\n",
       "      <td>2010-02-26</td>\n",
       "      <td>18611</td>\n",
       "      <td>18683</td>\n",
       "      <td>18514</td>\n",
       "      <td>18559</td>\n",
       "      <td>974615</td>\n",
       "      <td>0.000431</td>\n",
       "    </tr>\n",
       "    <tr>\n",
       "      <th>2010-03-31</th>\n",
       "      <td>2010-03-31</td>\n",
       "      <td>19853</td>\n",
       "      <td>19858</td>\n",
       "      <td>19729</td>\n",
       "      <td>19789</td>\n",
       "      <td>883019</td>\n",
       "      <td>-0.003776</td>\n",
       "    </tr>\n",
       "    <tr>\n",
       "      <th>2010-04-30</th>\n",
       "      <td>2010-04-30</td>\n",
       "      <td>20331</td>\n",
       "      <td>20403</td>\n",
       "      <td>20313</td>\n",
       "      <td>20377</td>\n",
       "      <td>758179</td>\n",
       "      <td>0.007814</td>\n",
       "    </tr>\n",
       "    <tr>\n",
       "      <th>2010-05-31</th>\n",
       "      <td>2010-05-31</td>\n",
       "      <td>18887</td>\n",
       "      <td>19126</td>\n",
       "      <td>18882</td>\n",
       "      <td>19134</td>\n",
       "      <td>1979678</td>\n",
       "      <td>0.012220</td>\n",
       "    </tr>\n",
       "  </tbody>\n",
       "</table>\n",
       "</div>"
      ],
      "text/plain": [
       "                  Date   Open   High    Low  Close   Volume    Change\n",
       "Date                                                                 \n",
       "2010-01-29  2010-01-29  19052  19066  18668  18742  2717811 -0.026996\n",
       "2010-02-26  2010-02-26  18611  18683  18514  18559   974615  0.000431\n",
       "2010-03-31  2010-03-31  19853  19858  19729  19789   883019 -0.003776\n",
       "2010-04-30  2010-04-30  20331  20403  20313  20377   758179  0.007814\n",
       "2010-05-31  2010-05-31  18887  19126  18882  19134  1979678  0.012220"
      ]
     },
     "execution_count": 7,
     "metadata": {},
     "output_type": "execute_result"
    }
   ],
   "source": [
    "df.index = pd.to_datetime(df[\"Date\"])\n",
    "df.head()"
   ]
  },
  {
   "cell_type": "markdown",
   "metadata": {},
   "source": [
    "### 개월수별 절대모멘텀 값 구하기, CAGR/MDD 구하기"
   ]
  },
  {
   "cell_type": "code",
   "execution_count": 25,
   "metadata": {},
   "outputs": [
    {
     "name": "stdout",
     "output_type": "stream",
     "text": [
      "KODEX200 CAGR 3.41% \n",
      "KODEX200 MDD -20.68%\n",
      "절대모멘텀 1개월 CAGR 3.24% \n",
      "절대모멘텀 1개월 MDD -17.82%\n",
      "절대모멘텀 2개월 CAGR 3.00% \n",
      "절대모멘텀 2개월 MDD -19.58%\n",
      "절대모멘텀 3개월 CAGR 5.14% \n",
      "절대모멘텀 3개월 MDD -16.89%\n",
      "절대모멘텀 4개월 CAGR 5.91% \n",
      "절대모멘텀 4개월 MDD -12.81%\n",
      "절대모멘텀 5개월 CAGR 5.13% \n",
      "절대모멘텀 5개월 MDD -15.75%\n",
      "절대모멘텀 6개월 CAGR 4.94% \n",
      "절대모멘텀 6개월 MDD -14.92%\n",
      "절대모멘텀 7개월 CAGR 4.47% \n",
      "절대모멘텀 7개월 MDD -14.61%\n",
      "절대모멘텀 8개월 CAGR 4.38% \n",
      "절대모멘텀 8개월 MDD -14.92%\n",
      "절대모멘텀 9개월 CAGR 3.58% \n",
      "절대모멘텀 9개월 MDD -14.92%\n",
      "절대모멘텀 10개월 CAGR 2.62% \n",
      "절대모멘텀 10개월 MDD -16.50%\n",
      "절대모멘텀 11개월 CAGR 2.85% \n",
      "절대모멘텀 11개월 MDD -16.50%\n",
      "절대모멘텀 12개월 CAGR 3.65% \n",
      "절대모멘텀 12개월 MDD -16.50%\n"
     ]
    }
   ],
   "source": [
    "KODEX200 = df[\"Close\"]\n",
    "KODEX200.rename(\"KODEX200\", inplace=True)\n",
    "\n",
    "# CAGR 구하기\n",
    "KODEX200_CAGR = CAGR(KODEX200)\n",
    "# MDD 구하기\n",
    "KODEX200_DD,KODEX200_MDD  = MDD(KODEX200)\n",
    "\n",
    "print (\"KODEX200 CAGR {:.2%} \".format(KODEX200_CAGR))\n",
    "print (\"KODEX200 MDD {:.2%}\".format(KODEX200_MDD[-1]))\n",
    "\n",
    "# dataframe 블리언 색인을 통해 절대 모멘텀 스코어 1인 값만을 뽑니다.\n",
    "for i in range(1,13):\n",
    "    절대모멘텀개월 = KODEX200[절대모멘텀(KODEX200,i) == 1]\n",
    "    절대모멘텀개월 = 월별수익(절대모멘텀개월) * 절대모멘텀개월.shift(1)\n",
    "    # 앞의 shift코드로 인해 na값이 발생하여 제거하고 계산\n",
    "    절대모멘텀개월CAGR = CAGR(절대모멘텀개월.dropna())\n",
    "    절대모멘텀개월DD,절대모멘텀개월MDD = MDD(절대모멘텀개월)\n",
    "    print (\"절대모멘텀 {}개월 CAGR {:.2%} \".format(i,절대모멘텀개월CAGR))\n",
    "    print (\"절대모멘텀 {}개월 MDD {:.2%}\".format(i,절대모멘텀개월MDD[-1]))"
   ]
  },
  {
   "cell_type": "markdown",
   "metadata": {},
   "source": [
    "### Monthly & Max MDD"
   ]
  },
  {
   "cell_type": "code",
   "execution_count": 26,
   "metadata": {},
   "outputs": [
    {
     "data": {
      "text/plain": [
       "<matplotlib.legend.Legend at 0xe15550>"
      ]
     },
     "execution_count": 26,
     "metadata": {},
     "output_type": "execute_result"
    },
    {
     "data": {
      "image/png": "[encoded data removed]",
      "text/plain": [
       "<matplotlib.figure.Figure at 0x970530>"
      ]
     },
     "metadata": {},
     "output_type": "display_data"
    }
   ],
   "source": [
    "import matplotlib.pyplot as plt\n",
    "import matplotlib\n",
    "matplotlib.rcParams['axes.unicode_minus'] = False\n",
    "from matplotlib import rc, font_manager\n",
    "rc(\"font\", family=\"NanumGothic\")\n",
    "\n",
    "%matplotlib inline\n",
    "\n",
    "fig = plt.figure(figsize=(14,6))\n",
    "ax = fig.add_subplot(1,1,1)\n",
    "ax.plot(절대모멘텀12개월_MDD,color=\"Black\",label=\"절대모멘텀12개월_MDD\");\n",
    "ax.plot(KODEX200_MDD,color=\"Red\", label=\"KODEX200_MDD\");\n",
    "ax.legend()"
   ]
  },
  {
   "cell_type": "markdown",
   "metadata": {},
   "source": [
    "### 그래프 그리기"
   ]
  },
  {
   "cell_type": "code",
   "execution_count": null,
   "metadata": {},
   "outputs": [],
   "source": [
    "import matplotlib.pyplot as plt\n",
    "import matplotlib\n",
    "matplotlib.rcParams['axes.unicode_minus'] = False\n",
    "from matplotlib import rc, font_manager\n",
    "rc(\"font\", family=\"NanumGothic\")\n",
    "\n",
    "%matplotlib inline"
   ]
  },
  {
   "cell_type": "code",
   "execution_count": 41,
   "metadata": {},
   "outputs": [
    {
     "data": {
      "text/plain": [
       "<matplotlib.legend.Legend at 0x9c21950>"
      ]
     },
     "execution_count": 41,
     "metadata": {},
     "output_type": "execute_result"
    },
    {
     "data": {
      "image/png": "[encoded data removed]",
      "text/plain": [
       "<matplotlib.figure.Figure at 0xc3d3cb0>"
      ]
     },
     "metadata": {},
     "output_type": "display_data"
    }
   ],
   "source": [
    "절대모멘텀12개월 = KODEX200[절대모멘텀(KODEX200,12) == 1]\n",
    "절대모멘텀12개월 = 월별수익(절대모멘텀12개월) * 절대모멘텀12개월.shift(1)\n",
    "#절대모멘텀12개월 = 절대모멘텀12개월.cumprod()\n",
    "절대모멘텀12개월_CAGR = CAGR(절대모멘텀12개월.dropna())\n",
    "절대모멘텀12개월_DD,절대모멘텀12개월_MDD  = MDD(절대모멘텀12개월)\n",
    "\n",
    "fig = plt.figure(figsize=(14,6))\n",
    "ax = fig.add_subplot(1,1,1)\n",
    "ax.plot(KODEX200,color=\"Black\",label=\"KODEX200\");\n",
    "ax.plot(절대모멘텀12개월,color=\"Red\",label=\"절대모멘텀12개월\");\n",
    "ax.legend()"
   ]
  },
  {
   "cell_type": "code",
   "execution_count": null,
   "metadata": {},
   "outputs": [],
   "source": []
  }
 ],
 "metadata": {
  "kernelspec": {
   "display_name": "Python 3",
   "language": "python",
   "name": "python3"
  },
  "language_info": {
   "codemirror_mode": {
    "name": "ipython",
    "version": 3
   },
   "file_extension": ".py",
   "mimetype": "text/x-python",
   "name": "python",
   "nbconvert_exporter": "python",
   "pygments_lexer": "ipython3",
   "version": "3.6.4"
  }
 },
 "nbformat": 4,
 "nbformat_minor": 2
}
