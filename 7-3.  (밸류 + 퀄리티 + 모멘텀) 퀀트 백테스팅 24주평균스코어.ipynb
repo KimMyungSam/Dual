{
 "cells": [
  {
   "cell_type": "code",
   "execution_count": 1,
   "metadata": {},
   "outputs": [],
   "source": [
    "import pandas as pd\n",
    "import numpy as np\n",
    "\n",
    "#  차트 설정\n",
    "%matplotlib inline\n",
    "import matplotlib.pyplot as plt"
   ]
  },
  {
   "cell_type": "markdown",
   "metadata": {},
   "source": [
    "### 함수"
   ]
  },
  {
   "cell_type": "code",
   "execution_count": 2,
   "metadata": {},
   "outputs": [],
   "source": [
    "def 주별수익(data):\n",
    "    result = data/data.shift(1)\n",
    "    return result\n",
    "\n",
    "def 절대모멘텀(data,month):\n",
    "    # shift를 사용하여 원화는 달의 수익률을 구한다\n",
    "    # 당월주가 > n 개월 전 주가(n개월 모멘텀 > 0) --> 주식매수\n",
    "    # 당월주가 < n 개월 전 주가(n개월 모멘텀 < 0) --> 주식매도\n",
    "    result = np.where(data/data.shift(month)>1,1,0)\n",
    "    return result\n",
    "\n",
    "def CAGR(data):\n",
    "    y = data.index.year.unique()\n",
    "    result = (data[-1]/data[0])**(1/len(y))-1\n",
    "    return np.round(result,4)\n",
    "\n",
    "def MDD(data):\n",
    "    window = len(data)\n",
    "\n",
    "    # Calculate the max drawdown in the past window days for each day in the series.\n",
    "    # Use min_periods=1 if you want to let the first 252 days data have an expanding window\n",
    "    Roll_Max = data.rolling(window, min_periods=1).max()\n",
    "    Roll_Max.rename(\"Roll_Max\", inplace=True)\n",
    "    Drawdown = data/Roll_Max - 1.0\n",
    "    Drawdown.rename(\"Drawdown\", inplace=True)\n",
    "\n",
    "    # Next we calculate the minimum (negative) daily drawdown in that window.\n",
    "    # Again, use min_periods=1 if you want to allow the expanding window\n",
    "    Max_Drawdown = Drawdown.rolling(window, min_periods=1).min()\n",
    "    Max_Drawdown.rename(\"Max_Drawdown\", inplace=True)\n",
    "    \n",
    "    return np.round(Drawdown,4), np.round(Max_Drawdown,4)"
   ]
  },
  {
   "cell_type": "markdown",
   "metadata": {},
   "source": [
    "### 24주 평균모멘텀 구하기"
   ]
  },
  {
   "cell_type": "code",
   "execution_count": 3,
   "metadata": {},
   "outputs": [],
   "source": [
    "def 주24평균모멘텀(data):\n",
    "    # shift를 사용하여 원화는 달의 수익률을 구한다\n",
    "    # 당월주가 > n 개월 전 주가(n개월 모멘텀 > 0) --> 주식매수\n",
    "    # 당월주가 < n 개월 전 주가(n개월 모멘텀 < 0) --> 주식매도\n",
    "    result = 0\n",
    "    for i in range(1,25):\n",
    "        result += np.where(data/data.shift(i)>1,1,0) \n",
    "    result = np.round(result/24,2)\n",
    "    # 평균스코어 매매시 밴치마크 지수를 너무 쫓아가지 못함. 특정 점수 이상은 '1', 즉 전부 들어가는 방안에 고민이 필요함.\n",
    "    # result[result>0.5] = 1\n",
    "    return result"
   ]
  },
  {
   "cell_type": "markdown",
   "metadata": {},
   "source": [
    "### Main"
   ]
  },
  {
   "cell_type": "markdown",
   "metadata": {},
   "source": [
    "### 파일 읽어오기"
   ]
  },
  {
   "cell_type": "code",
   "execution_count": 4,
   "metadata": {},
   "outputs": [],
   "source": [
    "mvc = pd.read_csv(\"밸류퀄리티모멘텀_종합순위.csv\",sep=\",\",encoding=\"euc-kr\",engine=\"python\")"
   ]
  },
  {
   "cell_type": "markdown",
   "metadata": {},
   "source": [
    "### total rank 우선순위 구하기"
   ]
  },
  {
   "cell_type": "code",
   "execution_count": 5,
   "metadata": {
    "scrolled": true
   },
   "outputs": [],
   "source": [
    "mvc.sort_values([\"total_rank\"],ascending=True,inplace=True)"
   ]
  },
  {
   "cell_type": "code",
   "execution_count": 6,
   "metadata": {},
   "outputs": [],
   "source": [
    "import re\n",
    "code = mvc[\"코드번호\"].apply(lambda x:re.sub(\"A\",\"\",x))"
   ]
  },
  {
   "cell_type": "markdown",
   "metadata": {},
   "source": [
    "### 종목 data 가져오기"
   ]
  },
  {
   "cell_type": "code",
   "execution_count": 7,
   "metadata": {},
   "outputs": [],
   "source": [
    "close = pd.read_csv(\"20190126 KRX전체종목Colse가격Data.csv\",sep=\",\",encoding=\"utf-8\", engine=\"python\")"
   ]
  },
  {
   "cell_type": "code",
   "execution_count": 8,
   "metadata": {},
   "outputs": [],
   "source": [
    "close.index = pd.to_datetime(close[\"Date\"])\n",
    "del close[\"Date\"]"
   ]
  },
  {
   "cell_type": "code",
   "execution_count": 9,
   "metadata": {},
   "outputs": [],
   "source": [
    "data = pd.Series()\n",
    "for i in range(0,100):\n",
    "    cl = close[code[i]]\n",
    "    data = pd.concat([data,cl], axis=1)    "
   ]
  },
  {
   "cell_type": "code",
   "execution_count": 10,
   "metadata": {},
   "outputs": [
    {
     "data": {
      "text/html": [
       "<div>\n",
       "<style scoped>\n",
       "    .dataframe tbody tr th:only-of-type {\n",
       "        vertical-align: middle;\n",
       "    }\n",
       "\n",
       "    .dataframe tbody tr th {\n",
       "        vertical-align: top;\n",
       "    }\n",
       "\n",
       "    .dataframe thead th {\n",
       "        text-align: right;\n",
       "    }\n",
       "</style>\n",
       "<table border=\"1\" class=\"dataframe\">\n",
       "  <thead>\n",
       "    <tr style=\"text-align: right;\">\n",
       "      <th></th>\n",
       "      <th>0</th>\n",
       "      <th>005930</th>\n",
       "      <th>000660</th>\n",
       "      <th>068270</th>\n",
       "      <th>051910</th>\n",
       "      <th>005380</th>\n",
       "      <th>017670</th>\n",
       "      <th>207940</th>\n",
       "      <th>005490</th>\n",
       "      <th>015760</th>\n",
       "      <th>...</th>\n",
       "      <th>017800</th>\n",
       "      <th>016360</th>\n",
       "      <th>253450</th>\n",
       "      <th>008560</th>\n",
       "      <th>011780</th>\n",
       "      <th>000100</th>\n",
       "      <th>004170</th>\n",
       "      <th>007310</th>\n",
       "      <th>030000</th>\n",
       "      <th>010060</th>\n",
       "    </tr>\n",
       "  </thead>\n",
       "  <tbody>\n",
       "    <tr>\n",
       "      <th>2010-01-04</th>\n",
       "      <td>NaN</td>\n",
       "      <td>16180</td>\n",
       "      <td>24100</td>\n",
       "      <td>15327</td>\n",
       "      <td>224000</td>\n",
       "      <td>119000</td>\n",
       "      <td>170000</td>\n",
       "      <td>NaN</td>\n",
       "      <td>612000</td>\n",
       "      <td>34250</td>\n",
       "      <td>...</td>\n",
       "      <td>43874</td>\n",
       "      <td>63247</td>\n",
       "      <td>NaN</td>\n",
       "      <td>1157</td>\n",
       "      <td>20850</td>\n",
       "      <td>147634</td>\n",
       "      <td>352531</td>\n",
       "      <td>149000</td>\n",
       "      <td>12476</td>\n",
       "      <td>215000</td>\n",
       "    </tr>\n",
       "    <tr>\n",
       "      <th>2010-01-05</th>\n",
       "      <td>NaN</td>\n",
       "      <td>16440</td>\n",
       "      <td>23350</td>\n",
       "      <td>15524</td>\n",
       "      <td>222500</td>\n",
       "      <td>110000</td>\n",
       "      <td>168500</td>\n",
       "      <td>NaN</td>\n",
       "      <td>618000</td>\n",
       "      <td>34050</td>\n",
       "      <td>...</td>\n",
       "      <td>44026</td>\n",
       "      <td>64290</td>\n",
       "      <td>NaN</td>\n",
       "      <td>1139</td>\n",
       "      <td>20650</td>\n",
       "      <td>148473</td>\n",
       "      <td>340057</td>\n",
       "      <td>148000</td>\n",
       "      <td>12275</td>\n",
       "      <td>213500</td>\n",
       "    </tr>\n",
       "    <tr>\n",
       "      <th>2010-01-06</th>\n",
       "      <td>NaN</td>\n",
       "      <td>16820</td>\n",
       "      <td>24550</td>\n",
       "      <td>15868</td>\n",
       "      <td>222500</td>\n",
       "      <td>111000</td>\n",
       "      <td>169000</td>\n",
       "      <td>NaN</td>\n",
       "      <td>612000</td>\n",
       "      <td>34000</td>\n",
       "      <td>...</td>\n",
       "      <td>43950</td>\n",
       "      <td>64764</td>\n",
       "      <td>NaN</td>\n",
       "      <td>1135</td>\n",
       "      <td>22000</td>\n",
       "      <td>150150</td>\n",
       "      <td>341370</td>\n",
       "      <td>150000</td>\n",
       "      <td>12135</td>\n",
       "      <td>216500</td>\n",
       "    </tr>\n",
       "    <tr>\n",
       "      <th>2010-01-07</th>\n",
       "      <td>NaN</td>\n",
       "      <td>16260</td>\n",
       "      <td>24400</td>\n",
       "      <td>15524</td>\n",
       "      <td>213000</td>\n",
       "      <td>106000</td>\n",
       "      <td>171500</td>\n",
       "      <td>NaN</td>\n",
       "      <td>606000</td>\n",
       "      <td>33800</td>\n",
       "      <td>...</td>\n",
       "      <td>44026</td>\n",
       "      <td>64290</td>\n",
       "      <td>NaN</td>\n",
       "      <td>1148</td>\n",
       "      <td>22400</td>\n",
       "      <td>148891</td>\n",
       "      <td>340714</td>\n",
       "      <td>148500</td>\n",
       "      <td>11994</td>\n",
       "      <td>218500</td>\n",
       "    </tr>\n",
       "    <tr>\n",
       "      <th>2010-01-08</th>\n",
       "      <td>NaN</td>\n",
       "      <td>16420</td>\n",
       "      <td>24650</td>\n",
       "      <td>15722</td>\n",
       "      <td>216000</td>\n",
       "      <td>106000</td>\n",
       "      <td>169500</td>\n",
       "      <td>NaN</td>\n",
       "      <td>606000</td>\n",
       "      <td>33800</td>\n",
       "      <td>...</td>\n",
       "      <td>43723</td>\n",
       "      <td>66566</td>\n",
       "      <td>NaN</td>\n",
       "      <td>1180</td>\n",
       "      <td>21550</td>\n",
       "      <td>147634</td>\n",
       "      <td>338088</td>\n",
       "      <td>151000</td>\n",
       "      <td>11673</td>\n",
       "      <td>227000</td>\n",
       "    </tr>\n",
       "  </tbody>\n",
       "</table>\n",
       "<p>5 rows × 101 columns</p>\n",
       "</div>"
      ],
      "text/plain": [
       "             0  005930  000660  068270  051910  005380  017670  207940  \\\n",
       "2010-01-04 NaN   16180   24100   15327  224000  119000  170000     NaN   \n",
       "2010-01-05 NaN   16440   23350   15524  222500  110000  168500     NaN   \n",
       "2010-01-06 NaN   16820   24550   15868  222500  111000  169000     NaN   \n",
       "2010-01-07 NaN   16260   24400   15524  213000  106000  171500     NaN   \n",
       "2010-01-08 NaN   16420   24650   15722  216000  106000  169500     NaN   \n",
       "\n",
       "            005490  015760  ...  017800  016360  253450  008560  011780  \\\n",
       "2010-01-04  612000   34250  ...   43874   63247     NaN    1157   20850   \n",
       "2010-01-05  618000   34050  ...   44026   64290     NaN    1139   20650   \n",
       "2010-01-06  612000   34000  ...   43950   64764     NaN    1135   22000   \n",
       "2010-01-07  606000   33800  ...   44026   64290     NaN    1148   22400   \n",
       "2010-01-08  606000   33800  ...   43723   66566     NaN    1180   21550   \n",
       "\n",
       "            000100  004170  007310  030000  010060  \n",
       "2010-01-04  147634  352531  149000   12476  215000  \n",
       "2010-01-05  148473  340057  148000   12275  213500  \n",
       "2010-01-06  150150  341370  150000   12135  216500  \n",
       "2010-01-07  148891  340714  148500   11994  218500  \n",
       "2010-01-08  147634  338088  151000   11673  227000  \n",
       "\n",
       "[5 rows x 101 columns]"
      ]
     },
     "execution_count": 10,
     "metadata": {},
     "output_type": "execute_result"
    }
   ],
   "source": [
    "data.head()"
   ]
  },
  {
   "cell_type": "code",
   "execution_count": 11,
   "metadata": {
    "scrolled": true
   },
   "outputs": [],
   "source": [
    "# 빈 컬럼 삭제\n",
    "data.drop([0],axis=1, inplace=True)"
   ]
  },
  {
   "cell_type": "markdown",
   "metadata": {},
   "source": [
    "### 구간 데이타 만들기"
   ]
  },
  {
   "cell_type": "code",
   "execution_count": 12,
   "metadata": {},
   "outputs": [],
   "source": [
    "data = data[\"2018\":]"
   ]
  },
  {
   "cell_type": "code",
   "execution_count": 13,
   "metadata": {},
   "outputs": [],
   "source": [
    "### 매주금요일에 매매 들어감, pandas.core.groupby.SeriesGroupBy 객체가 만들어짐\n",
    "Weekly_data = data.resample('W-FRI')"
   ]
  },
  {
   "cell_type": "markdown",
   "metadata": {},
   "source": [
    "### 24주 평균모멘텀 값 구하기, CAGR/MDD 구하기"
   ]
  },
  {
   "cell_type": "code",
   "execution_count": 14,
   "metadata": {},
   "outputs": [],
   "source": [
    "for icode in range(0,100):\n",
    "\n",
    "    #실제 거래가 발생하는 자본금 = real_trading_자본금, system stop 그래프 = virtual_trading_자본금\n",
    "    virtual_trading_자본금 = [1]\n",
    "    system_stop = []\n",
    "    매수금액 = 0\n",
    "    매매금액 = 0\n",
    "    #\n",
    "    Qdata = Weekly_data[code[icode]]\n",
    "    #  pandas.core.groupby.SeriesGroupBy 객체를 시리즈 객체로 만들기\n",
    "    Qdata = Qdata.apply(lambda x:x) \n",
    "    Qdata = Qdata.dropna()\n",
    "    Qdata = Qdata/Qdata[0]  #re-scale로 1로 맞춤\n",
    "    \n",
    "    # 24주 평균모멘텀 구하기\n",
    "    score = 주24평균모멘텀(Qdata)\n",
    "    #momentum score 시리즈 객체 만들기\n",
    "    sscore = pd.Series(score, index=Qdata.index)\n",
    "    ma20 = sscore.rolling(window=20,min_periods=1).mean()\n",
    "\n",
    "    # 주별 수익구하기\n",
    "    주수익 = 주별수익(Qdata)\n",
    "    \n",
    "    for v_score in range(0,len(score)):\n",
    "        # 첫달 매수금액\n",
    "        매수금액 = ma20[v_score] * virtual_trading_자본금[v_score]\n",
    "\n",
    "        try:        \n",
    "            #두번째주 수익과 첫주 매수금액 곱하기\n",
    "            매매금액 = 매수금액 * 주수익[v_score+1]\n",
    "            #첫달 자본금으로 두번째달 월별수익을 곱하여 손익을 계산하고 두번째달 자본금으로 할당함.\n",
    "            virtual_trading_자본금.append((virtual_trading_자본금[v_score] - 매수금액) + 매매금액)  #현금 = 자본금 - 매수금액\n",
    "        except IndexError:  #마지막달 매수금액의 투자수익은 구할수없어 pass 처리함\n",
    "            pass\n",
    "\n",
    "    virtual_trading_자본금 = pd.Series(virtual_trading_자본금, index=Qdata.index)\n",
    "\n",
    "    system_stop = virtual_trading_자본금.rolling(window=24, min_periods=1).mean()\n",
    "    #\n",
    "    #\n",
    "    #real trading 구하기\n",
    "    ### 수익곡선 & 7개월 평균 모멘텀을 결합한 모멘텀 전략\n",
    "    # 1.7개월 평균 모멘텀 스코어가 수익곡선 값보다 작으면 system stop\n",
    "    # 2.7개월 평균 모멘텀 스코어가 수익곡선 값보다 크면 system go\n",
    "    매수금액 = 0\n",
    "    매매금액= 0\n",
    "    real_trading_자본금 = [1]  #첫달 자본금 1로 설정\n",
    "\n",
    "    for ireal in range(0,len(score)-1):\n",
    "        # virtual_trading_자본금 > system_stop이면 매매거래\n",
    "        if virtual_trading_자본금[ireal] > system_stop[ireal]:\n",
    "            # 첫달 매수금액\n",
    "            매수금액 = ma20[ireal] * real_trading_자본금[ireal]\n",
    "            try:        \n",
    "                #두번째달 수익과 첫달 매수금액 곱하기\n",
    "                매매금액 = 매수금액 * 주수익[ireal+1]\n",
    "                #첫달 자본금으로 두번째달 월별수익을 곱하여 손익을 계산하고 두번째달 자본금으로 할당함.\n",
    "                real_trading_자본금.append((real_trading_자본금[ireal] - 매수금액) + 매매금액)  #현금 = 자본금 - 매수금액\n",
    "            except IndexError:  #마지막달 매수금액의 투자수익은 구할수없어 pass 처리함\n",
    "                pass\n",
    "        else:\n",
    "            real_trading_자본금.append(real_trading_자본금[ireal])\n",
    "\n",
    "    real_trading_자본금 = pd.Series(real_trading_자본금, index=Qdata.index)\n",
    "    \n",
    "    Qdata_CAGR = CAGR(Qdata) # CAGR 구하기\n",
    "    Qdata_DD, Qdata_MDD  = MDD(Qdata)  # MDD 구하기\n",
    "    Qdata_누적주별수익 = 주별수익(Qdata).cumprod()  #누적수익률 구하기\n",
    "    virtual_trading_CAGR = CAGR(virtual_trading_자본금) # CAGR 구하기\n",
    "    virtual_trading_DD, virtual_trading_MDD = MDD(virtual_trading_자본금)  # MDD 구하기\n",
    "    virtual_trading_누적주별수익 = 주별수익(virtual_trading_자본금).cumprod()  #누적수익률 구하기\n",
    "    \n",
    "    # 자본과 수익곡선 그래프 그리기 & 저장하기\n",
    "    plt.rcParams[\"font.family\"] = \"NanumGothic\"\n",
    "    plt.rcParams['lines.linewidth'] = 1\n",
    "    plt.rcParams[\"axes.grid\"] = True\n",
    "    \n",
    "    textstr = '\\n'.join((\n",
    "    r\"$Qdata_CAGR=%.2f$\" % (Qdata_CAGR, ),\n",
    "    r'$Qdata_MDD=%.2f$' % (Qdata_MDD[-1], ),\n",
    "    r'$Qdata_earning=%.2f$' % (Qdata_누적주별수익[-1], ),\n",
    "    r'$virtual_trading_CAGR=%.2f$' % (virtual_trading_CAGR, ),\n",
    "    r'$virtual_trading_MDD=%.2f$' % (virtual_trading_MDD[-1], ),\n",
    "    r'$virtual_trading_earning=%.2f$' % (virtual_trading_누적주별수익[-1], ) ))\n",
    "    \n",
    "    fig, axs = plt.subplots(2, 1,figsize=(14,6))\n",
    "    axs[0].plot(Qdata,color=\"Black\",label=\"Qdata\")\n",
    "    axs[0].plot(virtual_trading_자본금, color=\"red\",label=\"24주평균모멘텀\")\n",
    "    axs[0].set_xlabel('Weekly')\n",
    "    axs[0].set_ylabel('Close')\n",
    "    axs[0].legend();\n",
    "    \n",
    "    axs[1].plot(sscore,color=\"Red\", label=\"score\")\n",
    "    axs[1].plot(ma20,color=\"Blue\", label=\"ma20\")\n",
    "    axs[1].set_ylabel('Momentum Score')\n",
    "    \n",
    "    \n",
    "    # place a text box in upper left in axes coords\n",
    "    props = dict(boxstyle='round', facecolor='wheat', alpha=0.5)\n",
    "    axs[0].text(0.05, 0.95, textstr, transform=axs[0].transAxes, fontsize=14, verticalalignment='top', bbox=props)\n",
    "\n",
    "    # 그림으로 저장하기\n",
    "    fig.savefig(code[icode]+\".png\")\n",
    "    # plot에서 close하지 않으면 리소스가 과도하게 소모됨\n",
    "    plt.cla()\n",
    "    plt.clf()\n",
    "    plt.close(\"all\")"
   ]
  },
  {
   "cell_type": "code",
   "execution_count": null,
   "metadata": {},
   "outputs": [],
   "source": []
  }
 ],
 "metadata": {
  "kernelspec": {
   "display_name": "Python 3",
   "language": "python",
   "name": "python3"
  },
  "language_info": {
   "codemirror_mode": {
    "name": "ipython",
    "version": 3
   },
   "file_extension": ".py",
   "mimetype": "text/x-python",
   "name": "python",
   "nbconvert_exporter": "python",
   "pygments_lexer": "ipython3",
   "version": "3.6.4"
  }
 },
 "nbformat": 4,
 "nbformat_minor": 2
}
