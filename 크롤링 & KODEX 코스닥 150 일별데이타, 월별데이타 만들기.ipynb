{
 "cells": [
  {
   "cell_type": "code",
   "execution_count": 1,
   "metadata": {},
   "outputs": [],
   "source": [
    "import pandas as pd\n",
    "import numpy as np\n",
    "import FinanceDataReader  as fdr"
   ]
  },
  {
   "cell_type": "code",
   "execution_count": 2,
   "metadata": {},
   "outputs": [],
   "source": [
    "# https://financedata.github.io/posts/finance-data-reader-users-guide.html"
   ]
  },
  {
   "cell_type": "markdown",
   "metadata": {},
   "source": [
    "### KODEX 코스닥 150 읽어오기"
   ]
  },
  {
   "cell_type": "code",
   "execution_count": 3,
   "metadata": {},
   "outputs": [],
   "source": [
    "df = fdr.DataReader(\"229200\")"
   ]
  },
  {
   "cell_type": "code",
   "execution_count": 4,
   "metadata": {},
   "outputs": [
    {
     "data": {
      "text/html": [
       "<div>\n",
       "<style scoped>\n",
       "    .dataframe tbody tr th:only-of-type {\n",
       "        vertical-align: middle;\n",
       "    }\n",
       "\n",
       "    .dataframe tbody tr th {\n",
       "        vertical-align: top;\n",
       "    }\n",
       "\n",
       "    .dataframe thead th {\n",
       "        text-align: right;\n",
       "    }\n",
       "</style>\n",
       "<table border=\"1\" class=\"dataframe\">\n",
       "  <thead>\n",
       "    <tr style=\"text-align: right;\">\n",
       "      <th></th>\n",
       "      <th>Open</th>\n",
       "      <th>High</th>\n",
       "      <th>Low</th>\n",
       "      <th>Close</th>\n",
       "      <th>Volume</th>\n",
       "      <th>Change</th>\n",
       "    </tr>\n",
       "    <tr>\n",
       "      <th>Date</th>\n",
       "      <th></th>\n",
       "      <th></th>\n",
       "      <th></th>\n",
       "      <th></th>\n",
       "      <th></th>\n",
       "      <th></th>\n",
       "    </tr>\n",
       "  </thead>\n",
       "  <tbody>\n",
       "    <tr>\n",
       "      <th>2019-01-14</th>\n",
       "      <td>11635</td>\n",
       "      <td>11660</td>\n",
       "      <td>11495</td>\n",
       "      <td>11500</td>\n",
       "      <td>2083391</td>\n",
       "      <td>-0.014145</td>\n",
       "    </tr>\n",
       "    <tr>\n",
       "      <th>2019-01-15</th>\n",
       "      <td>11535</td>\n",
       "      <td>11690</td>\n",
       "      <td>11525</td>\n",
       "      <td>11625</td>\n",
       "      <td>3006123</td>\n",
       "      <td>0.010870</td>\n",
       "    </tr>\n",
       "    <tr>\n",
       "      <th>2019-01-16</th>\n",
       "      <td>11645</td>\n",
       "      <td>11650</td>\n",
       "      <td>11510</td>\n",
       "      <td>11605</td>\n",
       "      <td>3296776</td>\n",
       "      <td>-0.001720</td>\n",
       "    </tr>\n",
       "    <tr>\n",
       "      <th>2019-01-17</th>\n",
       "      <td>11645</td>\n",
       "      <td>11670</td>\n",
       "      <td>11420</td>\n",
       "      <td>11420</td>\n",
       "      <td>3437730</td>\n",
       "      <td>-0.015941</td>\n",
       "    </tr>\n",
       "    <tr>\n",
       "      <th>2019-01-18</th>\n",
       "      <td>11480</td>\n",
       "      <td>11640</td>\n",
       "      <td>11480</td>\n",
       "      <td>11630</td>\n",
       "      <td>3063345</td>\n",
       "      <td>0.018389</td>\n",
       "    </tr>\n",
       "  </tbody>\n",
       "</table>\n",
       "</div>"
      ],
      "text/plain": [
       "             Open   High    Low  Close   Volume    Change\n",
       "Date                                                     \n",
       "2019-01-14  11635  11660  11495  11500  2083391 -0.014145\n",
       "2019-01-15  11535  11690  11525  11625  3006123  0.010870\n",
       "2019-01-16  11645  11650  11510  11605  3296776 -0.001720\n",
       "2019-01-17  11645  11670  11420  11420  3437730 -0.015941\n",
       "2019-01-18  11480  11640  11480  11630  3063345  0.018389"
      ]
     },
     "execution_count": 4,
     "metadata": {},
     "output_type": "execute_result"
    }
   ],
   "source": [
    "df.tail()"
   ]
  },
  {
   "cell_type": "code",
   "execution_count": 5,
   "metadata": {},
   "outputs": [
    {
     "data": {
      "text/html": [
       "<div>\n",
       "<style scoped>\n",
       "    .dataframe tbody tr th:only-of-type {\n",
       "        vertical-align: middle;\n",
       "    }\n",
       "\n",
       "    .dataframe tbody tr th {\n",
       "        vertical-align: top;\n",
       "    }\n",
       "\n",
       "    .dataframe thead th {\n",
       "        text-align: right;\n",
       "    }\n",
       "</style>\n",
       "<table border=\"1\" class=\"dataframe\">\n",
       "  <thead>\n",
       "    <tr style=\"text-align: right;\">\n",
       "      <th></th>\n",
       "      <th>Open</th>\n",
       "      <th>High</th>\n",
       "      <th>Low</th>\n",
       "      <th>Close</th>\n",
       "      <th>Volume</th>\n",
       "      <th>Change</th>\n",
       "    </tr>\n",
       "    <tr>\n",
       "      <th>Date</th>\n",
       "      <th></th>\n",
       "      <th></th>\n",
       "      <th></th>\n",
       "      <th></th>\n",
       "      <th></th>\n",
       "      <th></th>\n",
       "    </tr>\n",
       "  </thead>\n",
       "  <tbody>\n",
       "    <tr>\n",
       "      <th>2015-10-01</th>\n",
       "      <td>10638</td>\n",
       "      <td>10638</td>\n",
       "      <td>10569</td>\n",
       "      <td>10572</td>\n",
       "      <td>30032</td>\n",
       "      <td>NaN</td>\n",
       "    </tr>\n",
       "    <tr>\n",
       "      <th>2015-10-02</th>\n",
       "      <td>10609</td>\n",
       "      <td>10634</td>\n",
       "      <td>10609</td>\n",
       "      <td>10621</td>\n",
       "      <td>60029</td>\n",
       "      <td>0.004635</td>\n",
       "    </tr>\n",
       "    <tr>\n",
       "      <th>2015-10-05</th>\n",
       "      <td>10737</td>\n",
       "      <td>10747</td>\n",
       "      <td>10688</td>\n",
       "      <td>10708</td>\n",
       "      <td>40976</td>\n",
       "      <td>0.008191</td>\n",
       "    </tr>\n",
       "    <tr>\n",
       "      <th>2015-10-06</th>\n",
       "      <td>10728</td>\n",
       "      <td>10757</td>\n",
       "      <td>10648</td>\n",
       "      <td>10650</td>\n",
       "      <td>40252</td>\n",
       "      <td>-0.005417</td>\n",
       "    </tr>\n",
       "    <tr>\n",
       "      <th>2015-10-07</th>\n",
       "      <td>10569</td>\n",
       "      <td>10569</td>\n",
       "      <td>10413</td>\n",
       "      <td>10413</td>\n",
       "      <td>20248</td>\n",
       "      <td>-0.022254</td>\n",
       "    </tr>\n",
       "  </tbody>\n",
       "</table>\n",
       "</div>"
      ],
      "text/plain": [
       "             Open   High    Low  Close  Volume    Change\n",
       "Date                                                    \n",
       "2015-10-01  10638  10638  10569  10572   30032       NaN\n",
       "2015-10-02  10609  10634  10609  10621   60029  0.004635\n",
       "2015-10-05  10737  10747  10688  10708   40976  0.008191\n",
       "2015-10-06  10728  10757  10648  10650   40252 -0.005417\n",
       "2015-10-07  10569  10569  10413  10413   20248 -0.022254"
      ]
     },
     "execution_count": 5,
     "metadata": {},
     "output_type": "execute_result"
    }
   ],
   "source": [
    "df.head()"
   ]
  },
  {
   "cell_type": "markdown",
   "metadata": {},
   "source": [
    "### csv 파일로 저장하기"
   ]
  },
  {
   "cell_type": "code",
   "execution_count": 6,
   "metadata": {},
   "outputs": [],
   "source": [
    "df.to_csv(\"KODEX코스닥150_daily_data.csv\",sep=\",\",encoding=\"utf-8\")"
   ]
  },
  {
   "cell_type": "markdown",
   "metadata": {},
   "source": [
    "### 마지막 영업일로 월별데이타 만들기"
   ]
  },
  {
   "cell_type": "code",
   "execution_count": 7,
   "metadata": {},
   "outputs": [],
   "source": [
    "bm = df.resample(\"BM\").last()"
   ]
  },
  {
   "cell_type": "code",
   "execution_count": 8,
   "metadata": {},
   "outputs": [
    {
     "data": {
      "text/html": [
       "<div>\n",
       "<style scoped>\n",
       "    .dataframe tbody tr th:only-of-type {\n",
       "        vertical-align: middle;\n",
       "    }\n",
       "\n",
       "    .dataframe tbody tr th {\n",
       "        vertical-align: top;\n",
       "    }\n",
       "\n",
       "    .dataframe thead th {\n",
       "        text-align: right;\n",
       "    }\n",
       "</style>\n",
       "<table border=\"1\" class=\"dataframe\">\n",
       "  <thead>\n",
       "    <tr style=\"text-align: right;\">\n",
       "      <th></th>\n",
       "      <th>Open</th>\n",
       "      <th>High</th>\n",
       "      <th>Low</th>\n",
       "      <th>Close</th>\n",
       "      <th>Volume</th>\n",
       "      <th>Change</th>\n",
       "    </tr>\n",
       "    <tr>\n",
       "      <th>Date</th>\n",
       "      <th></th>\n",
       "      <th></th>\n",
       "      <th></th>\n",
       "      <th></th>\n",
       "      <th></th>\n",
       "      <th></th>\n",
       "    </tr>\n",
       "  </thead>\n",
       "  <tbody>\n",
       "    <tr>\n",
       "      <th>2018-09-28</th>\n",
       "      <td>14390</td>\n",
       "      <td>14500</td>\n",
       "      <td>14150</td>\n",
       "      <td>14150</td>\n",
       "      <td>3700968</td>\n",
       "      <td>-0.015310</td>\n",
       "    </tr>\n",
       "    <tr>\n",
       "      <th>2018-10-31</th>\n",
       "      <td>11560</td>\n",
       "      <td>11560</td>\n",
       "      <td>11260</td>\n",
       "      <td>11285</td>\n",
       "      <td>9078381</td>\n",
       "      <td>-0.021673</td>\n",
       "    </tr>\n",
       "    <tr>\n",
       "      <th>2018-11-30</th>\n",
       "      <td>11935</td>\n",
       "      <td>12030</td>\n",
       "      <td>11875</td>\n",
       "      <td>11950</td>\n",
       "      <td>3156898</td>\n",
       "      <td>0.005469</td>\n",
       "    </tr>\n",
       "    <tr>\n",
       "      <th>2018-12-31</th>\n",
       "      <td>11765</td>\n",
       "      <td>11830</td>\n",
       "      <td>11665</td>\n",
       "      <td>11800</td>\n",
       "      <td>4845337</td>\n",
       "      <td>0.004255</td>\n",
       "    </tr>\n",
       "    <tr>\n",
       "      <th>2019-01-31</th>\n",
       "      <td>11480</td>\n",
       "      <td>11640</td>\n",
       "      <td>11480</td>\n",
       "      <td>11630</td>\n",
       "      <td>3063345</td>\n",
       "      <td>0.018389</td>\n",
       "    </tr>\n",
       "  </tbody>\n",
       "</table>\n",
       "</div>"
      ],
      "text/plain": [
       "             Open   High    Low  Close   Volume    Change\n",
       "Date                                                     \n",
       "2018-09-28  14390  14500  14150  14150  3700968 -0.015310\n",
       "2018-10-31  11560  11560  11260  11285  9078381 -0.021673\n",
       "2018-11-30  11935  12030  11875  11950  3156898  0.005469\n",
       "2018-12-31  11765  11830  11665  11800  4845337  0.004255\n",
       "2019-01-31  11480  11640  11480  11630  3063345  0.018389"
      ]
     },
     "execution_count": 8,
     "metadata": {},
     "output_type": "execute_result"
    }
   ],
   "source": [
    "bm.tail()"
   ]
  },
  {
   "cell_type": "code",
   "execution_count": 9,
   "metadata": {},
   "outputs": [],
   "source": [
    "bm.to_csv(\"KODEX코스닥150_monthly_data.csv\", sep=\",\",encoding=\"utf-8\")"
   ]
  },
  {
   "cell_type": "code",
   "execution_count": null,
   "metadata": {},
   "outputs": [],
   "source": []
  }
 ],
 "metadata": {
  "kernelspec": {
   "display_name": "Python 3",
   "language": "python",
   "name": "python3"
  },
  "language_info": {
   "codemirror_mode": {
    "name": "ipython",
    "version": 3
   },
   "file_extension": ".py",
   "mimetype": "text/x-python",
   "name": "python",
   "nbconvert_exporter": "python",
   "pygments_lexer": "ipython3",
   "version": "3.6.4"
  }
 },
 "nbformat": 4,
 "nbformat_minor": 2
}
