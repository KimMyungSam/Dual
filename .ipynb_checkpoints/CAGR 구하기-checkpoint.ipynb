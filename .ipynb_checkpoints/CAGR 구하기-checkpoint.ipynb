{
 "cells": [
  {
   "cell_type": "raw",
   "metadata": {},
   "source": [
    "CAGR = (L/F) (1/n)"
   ]
  },
  {
   "cell_type": "code",
   "execution_count": null,
   "metadata": {},
   "outputs": [],
   "source": [
    "# From the formula above you can see that to compute CAGR, you need three parameters or inputs:\n",
    "# F = F here means the First value in your series of values.\n",
    "# L = L here means the Last value in your series of values.\n",
    "# N = N is the number of years between your First and Last value in your series of values."
   ]
  },
  {
   "cell_type": "code",
   "execution_count": 2,
   "metadata": {},
   "outputs": [
    {
     "name": "stdout",
     "output_type": "stream",
     "text": [
      "Your investment had a CAGR of 14.64% \n"
     ]
    }
   ],
   "source": [
    "# The $1,000 would be the F in our formula, L would be $1,980 and N would be 6 (number of years).\n",
    "CAGR = (1980.0/1000)**(1/5.0)-1\n",
    "print ('Your investment had a CAGR of {:.2%} '.format(CAGR))"
   ]
  },
  {
   "cell_type": "code",
   "execution_count": 3,
   "metadata": {},
   "outputs": [
    {
     "name": "stdout",
     "output_type": "stream",
     "text": [
      "Your investment had a CAGR of 7.07% \n"
     ]
    }
   ],
   "source": [
    "CAGR = (1980.0/1000)**(1/10.0)-1\n",
    "print ('Your investment had a CAGR of {:.2%} '.format(CAGR))"
   ]
  },
  {
   "cell_type": "code",
   "execution_count": null,
   "metadata": {},
   "outputs": [],
   "source": []
  }
 ],
 "metadata": {
  "kernelspec": {
   "display_name": "Python 3",
   "language": "python",
   "name": "python3"
  },
  "language_info": {
   "codemirror_mode": {
    "name": "ipython",
    "version": 3
   },
   "file_extension": ".py",
   "mimetype": "text/x-python",
   "name": "python",
   "nbconvert_exporter": "python",
   "pygments_lexer": "ipython3",
   "version": "3.6.4"
  }
 },
 "nbformat": 4,
 "nbformat_minor": 2
}
