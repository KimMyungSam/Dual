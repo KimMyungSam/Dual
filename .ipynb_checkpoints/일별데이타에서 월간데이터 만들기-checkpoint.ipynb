{
 "cells": [
  {
   "cell_type": "code",
   "execution_count": 1,
   "metadata": {},
   "outputs": [],
   "source": [
    "import pandas as pd\n",
    "import numpy as np"
   ]
  },
  {
   "cell_type": "code",
   "execution_count": 2,
   "metadata": {},
   "outputs": [
    {
     "name": "stdout",
     "output_type": "stream",
     "text": [
      "['국가', '채권', '현금', '섹터', '팩터']\n"
     ]
    }
   ],
   "source": [
    "#1. 데이터 가져오기\n",
    "파일 = pd.ExcelFile('C:\\ETF\\portfolio_data의 20120222.xlsx')\n",
    "sheet_names = 파일.sheet_names\n",
    "print (sheet_names)"
   ]
  },
  {
   "cell_type": "code",
   "execution_count": 3,
   "metadata": {},
   "outputs": [
    {
     "name": "stdout",
     "output_type": "stream",
     "text": [
      "국가개수 7\n",
      "채권개수 5\n",
      "현금개수 1\n",
      "섹터개수 15\n",
      "팩터개수 8\n"
     ]
    }
   ],
   "source": [
    "#2. 자산군별 데이터 프레임 설정\n",
    "\n",
    "sheet_data = {}\n",
    "for i in sheet_names:\n",
    "    sheet_data[i] = 파일.parse(i)\n",
    "    sheet_data[i].index = sheet_data[i].Date\n",
    "    #날짜 있는 컬럼을 삭제함.\n",
    "    sheet_data[i].drop('Date', axis = 1, inplace=True)\n",
    "    #날짜 컬럼을 제외한 컬럼의 갯수\n",
    "    print(i+'개수',len(sheet_data[i].columns))"
   ]
  },
  {
   "cell_type": "code",
   "execution_count": 4,
   "metadata": {
    "scrolled": false
   },
   "outputs": [],
   "source": [
    "# 매달 영업일을 구하고 그 group의 마지막 값을 반환한다. 이렇게하면 영엽일의 값이 된다.\n",
    "sheet_data[\"국가\"] = sheet_data[\"국가\"].resample(\"BM\").last()\n",
    "sheet_data[\"채권\"] = sheet_data[\"채권\"].resample(\"BM\").last()\n",
    "sheet_data[\"현금\"] = sheet_data[\"현금\"].resample(\"BM\").last()\n",
    "sheet_data[\"섹터\"] = sheet_data[\"섹터\"].resample(\"BM\").last()\n",
    "sheet_data[\"팩터\"] = sheet_data[\"팩터\"].resample(\"BM\").last()"
   ]
  },
  {
   "cell_type": "code",
   "execution_count": 5,
   "metadata": {},
   "outputs": [],
   "source": [
    "# 엑셀 파일에 시트별로 저장하기\n",
    "writer = pd.ExcelWriter(\"portfolio_monthly_data.xlsx\")\n",
    "for name in sheet_names:\n",
    "    sheet_data[name].to_excel(writer, sheet_name = name)\n",
    "writer.save()\n",
    "writer.close()"
   ]
  },
  {
   "cell_type": "code",
   "execution_count": null,
   "metadata": {},
   "outputs": [],
   "source": []
  }
 ],
 "metadata": {
  "kernelspec": {
   "display_name": "Python 3",
   "language": "python",
   "name": "python3"
  },
  "language_info": {
   "codemirror_mode": {
    "name": "ipython",
    "version": 3
   },
   "file_extension": ".py",
   "mimetype": "text/x-python",
   "name": "python",
   "nbconvert_exporter": "python",
   "pygments_lexer": "ipython3",
   "version": "3.6.4"
  }
 },
 "nbformat": 4,
 "nbformat_minor": 2
}
